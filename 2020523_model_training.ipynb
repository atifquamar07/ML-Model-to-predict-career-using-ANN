{
 "cells": [
  {
   "cell_type": "markdown",
   "metadata": {},
   "source": [
    "## Building of ML Model"
   ]
  },
  {
   "cell_type": "markdown",
   "metadata": {},
   "source": [
    "Importing the Pandas library to modify the CSV file into a database."
   ]
  },
  {
   "cell_type": "code",
   "execution_count": 490,
   "metadata": {},
   "outputs": [],
   "source": [
    "import pandas as pd"
   ]
  },
  {
   "cell_type": "markdown",
   "metadata": {},
   "source": [
    "Converting the CSV file to Pandas Dataframe."
   ]
  },
  {
   "cell_type": "code",
   "execution_count": 491,
   "metadata": {},
   "outputs": [
    {
     "name": "stdout",
     "output_type": "stream",
     "text": [
      "(20000, 39)\n"
     ]
    }
   ],
   "source": [
    "df = pd.read_csv('roo_data.csv') \n",
    "raw_df = df\n",
    "print(df.shape)"
   ]
  },
  {
   "cell_type": "code",
   "execution_count": 492,
   "metadata": {},
   "outputs": [
    {
     "data": {
      "text/html": [
       "<div>\n",
       "<style scoped>\n",
       "    .dataframe tbody tr th:only-of-type {\n",
       "        vertical-align: middle;\n",
       "    }\n",
       "\n",
       "    .dataframe tbody tr th {\n",
       "        vertical-align: top;\n",
       "    }\n",
       "\n",
       "    .dataframe thead th {\n",
       "        text-align: right;\n",
       "    }\n",
       "</style>\n",
       "<table border=\"1\" class=\"dataframe\">\n",
       "  <thead>\n",
       "    <tr style=\"text-align: right;\">\n",
       "      <th></th>\n",
       "      <th>Academic Percentage in Operating Systems</th>\n",
       "      <th>Percentage in Algorithms</th>\n",
       "      <th>Percentage in Programming Concepts</th>\n",
       "      <th>Percentage in Software Engineering</th>\n",
       "      <th>Percentage in Computer Networks</th>\n",
       "      <th>Percentage in Electronics Subjects</th>\n",
       "      <th>Percentage in Computer Architecture</th>\n",
       "      <th>Percentage in Mathematics</th>\n",
       "      <th>Percentage in Communication skills</th>\n",
       "      <th>Hours Working Per Day</th>\n",
       "      <th>...</th>\n",
       "      <th>Interested Type of Books</th>\n",
       "      <th>Salary Range Expected</th>\n",
       "      <th>In a Realtionship?</th>\n",
       "      <th>Gentle or Tuff behaviour?</th>\n",
       "      <th>Management or Technical</th>\n",
       "      <th>Salary/Work</th>\n",
       "      <th>Hard/Smart worker</th>\n",
       "      <th>Worked in Teams Ever?</th>\n",
       "      <th>Introvert</th>\n",
       "      <th>Suggested Job Role</th>\n",
       "    </tr>\n",
       "  </thead>\n",
       "  <tbody>\n",
       "    <tr>\n",
       "      <th>0</th>\n",
       "      <td>69</td>\n",
       "      <td>63</td>\n",
       "      <td>78</td>\n",
       "      <td>87</td>\n",
       "      <td>94</td>\n",
       "      <td>94</td>\n",
       "      <td>87</td>\n",
       "      <td>84</td>\n",
       "      <td>61</td>\n",
       "      <td>9</td>\n",
       "      <td>...</td>\n",
       "      <td>Prayer books</td>\n",
       "      <td>salary</td>\n",
       "      <td>no</td>\n",
       "      <td>stubborn</td>\n",
       "      <td>Management</td>\n",
       "      <td>salary</td>\n",
       "      <td>hard worker</td>\n",
       "      <td>yes</td>\n",
       "      <td>no</td>\n",
       "      <td>Database Developer</td>\n",
       "    </tr>\n",
       "    <tr>\n",
       "      <th>1</th>\n",
       "      <td>78</td>\n",
       "      <td>62</td>\n",
       "      <td>73</td>\n",
       "      <td>60</td>\n",
       "      <td>71</td>\n",
       "      <td>70</td>\n",
       "      <td>73</td>\n",
       "      <td>84</td>\n",
       "      <td>91</td>\n",
       "      <td>12</td>\n",
       "      <td>...</td>\n",
       "      <td>Childrens</td>\n",
       "      <td>salary</td>\n",
       "      <td>yes</td>\n",
       "      <td>gentle</td>\n",
       "      <td>Technical</td>\n",
       "      <td>salary</td>\n",
       "      <td>hard worker</td>\n",
       "      <td>no</td>\n",
       "      <td>yes</td>\n",
       "      <td>Portal Administrator</td>\n",
       "    </tr>\n",
       "    <tr>\n",
       "      <th>2</th>\n",
       "      <td>71</td>\n",
       "      <td>86</td>\n",
       "      <td>91</td>\n",
       "      <td>87</td>\n",
       "      <td>61</td>\n",
       "      <td>81</td>\n",
       "      <td>72</td>\n",
       "      <td>72</td>\n",
       "      <td>94</td>\n",
       "      <td>11</td>\n",
       "      <td>...</td>\n",
       "      <td>Travel</td>\n",
       "      <td>Work</td>\n",
       "      <td>no</td>\n",
       "      <td>stubborn</td>\n",
       "      <td>Management</td>\n",
       "      <td>work</td>\n",
       "      <td>hard worker</td>\n",
       "      <td>no</td>\n",
       "      <td>yes</td>\n",
       "      <td>Portal Administrator</td>\n",
       "    </tr>\n",
       "    <tr>\n",
       "      <th>3</th>\n",
       "      <td>76</td>\n",
       "      <td>87</td>\n",
       "      <td>60</td>\n",
       "      <td>84</td>\n",
       "      <td>89</td>\n",
       "      <td>73</td>\n",
       "      <td>62</td>\n",
       "      <td>88</td>\n",
       "      <td>69</td>\n",
       "      <td>7</td>\n",
       "      <td>...</td>\n",
       "      <td>Romance</td>\n",
       "      <td>Work</td>\n",
       "      <td>yes</td>\n",
       "      <td>gentle</td>\n",
       "      <td>Management</td>\n",
       "      <td>work</td>\n",
       "      <td>smart worker</td>\n",
       "      <td>yes</td>\n",
       "      <td>yes</td>\n",
       "      <td>Systems Security Administrator</td>\n",
       "    </tr>\n",
       "    <tr>\n",
       "      <th>4</th>\n",
       "      <td>92</td>\n",
       "      <td>62</td>\n",
       "      <td>90</td>\n",
       "      <td>67</td>\n",
       "      <td>71</td>\n",
       "      <td>89</td>\n",
       "      <td>73</td>\n",
       "      <td>71</td>\n",
       "      <td>73</td>\n",
       "      <td>4</td>\n",
       "      <td>...</td>\n",
       "      <td>Cookbooks</td>\n",
       "      <td>salary</td>\n",
       "      <td>no</td>\n",
       "      <td>stubborn</td>\n",
       "      <td>Management</td>\n",
       "      <td>work</td>\n",
       "      <td>hard worker</td>\n",
       "      <td>yes</td>\n",
       "      <td>yes</td>\n",
       "      <td>Business Systems Analyst</td>\n",
       "    </tr>\n",
       "  </tbody>\n",
       "</table>\n",
       "<p>5 rows × 39 columns</p>\n",
       "</div>"
      ],
      "text/plain": [
       "   Academic Percentage in Operating Systems  Percentage in Algorithms  \\\n",
       "0                                        69                        63   \n",
       "1                                        78                        62   \n",
       "2                                        71                        86   \n",
       "3                                        76                        87   \n",
       "4                                        92                        62   \n",
       "\n",
       "   Percentage in Programming Concepts  Percentage in Software Engineering  \\\n",
       "0                                  78                                  87   \n",
       "1                                  73                                  60   \n",
       "2                                  91                                  87   \n",
       "3                                  60                                  84   \n",
       "4                                  90                                  67   \n",
       "\n",
       "   Percentage in Computer Networks  Percentage in Electronics Subjects  \\\n",
       "0                               94                                  94   \n",
       "1                               71                                  70   \n",
       "2                               61                                  81   \n",
       "3                               89                                  73   \n",
       "4                               71                                  89   \n",
       "\n",
       "   Percentage in Computer Architecture  Percentage in Mathematics  \\\n",
       "0                                   87                         84   \n",
       "1                                   73                         84   \n",
       "2                                   72                         72   \n",
       "3                                   62                         88   \n",
       "4                                   73                         71   \n",
       "\n",
       "   Percentage in Communication skills  Hours Working Per Day  ...  \\\n",
       "0                                  61                      9  ...   \n",
       "1                                  91                     12  ...   \n",
       "2                                  94                     11  ...   \n",
       "3                                  69                      7  ...   \n",
       "4                                  73                      4  ...   \n",
       "\n",
       "   Interested Type of Books  Salary Range Expected  In a Realtionship?  \\\n",
       "0              Prayer books                 salary                  no   \n",
       "1                 Childrens                 salary                 yes   \n",
       "2                    Travel                   Work                  no   \n",
       "3                   Romance                   Work                 yes   \n",
       "4                 Cookbooks                 salary                  no   \n",
       "\n",
       "   Gentle or Tuff behaviour? Management or Technical Salary/Work  \\\n",
       "0                   stubborn              Management      salary   \n",
       "1                     gentle               Technical      salary   \n",
       "2                   stubborn              Management        work   \n",
       "3                     gentle              Management        work   \n",
       "4                   stubborn              Management        work   \n",
       "\n",
       "  Hard/Smart worker Worked in Teams Ever? Introvert  \\\n",
       "0       hard worker                   yes        no   \n",
       "1       hard worker                    no       yes   \n",
       "2       hard worker                    no       yes   \n",
       "3      smart worker                   yes       yes   \n",
       "4       hard worker                   yes       yes   \n",
       "\n",
       "               Suggested Job Role  \n",
       "0              Database Developer  \n",
       "1            Portal Administrator  \n",
       "2            Portal Administrator  \n",
       "3  Systems Security Administrator  \n",
       "4        Business Systems Analyst  \n",
       "\n",
       "[5 rows x 39 columns]"
      ]
     },
     "execution_count": 492,
     "metadata": {},
     "output_type": "execute_result"
    }
   ],
   "source": [
    "df.head()"
   ]
  },
  {
   "cell_type": "markdown",
   "metadata": {},
   "source": [
    "Showcasing all the columns present in the CSV file."
   ]
  },
  {
   "cell_type": "code",
   "execution_count": 493,
   "metadata": {},
   "outputs": [
    {
     "data": {
      "text/plain": [
       "Index(['Academic Percentage in Operating Systems', 'Percentage in Algorithms',\n",
       "       'Percentage in Programming Concepts',\n",
       "       'Percentage in Software Engineering', 'Percentage in Computer Networks',\n",
       "       'Percentage in Electronics Subjects',\n",
       "       'Percentage in Computer Architecture', 'Percentage in Mathematics',\n",
       "       'Percentage in Communication skills', 'Hours Working Per Day',\n",
       "       'Logical Quotient Rating', 'Hackathons', 'Coding Skills Rating',\n",
       "       'Public Speaking Points', 'Can Work Long Time Before System?',\n",
       "       'Self-Learning Capability?', 'Extra-courses did', 'Certifications',\n",
       "       'Workshops', 'Talent Tests taken?', 'Olympiads',\n",
       "       'Reading and Writing Skills', 'Memory Capability Score',\n",
       "       'Interested Subjects', 'Interested Career Area ', 'Job/Higher Studies?',\n",
       "       'Type of Company Want to Settle In?',\n",
       "       'Taken Inputs from Seniors or Elders', 'Interested in Games',\n",
       "       'Interested Type of Books', 'Salary Range Expected',\n",
       "       'In a Realtionship?', 'Gentle or Tuff behaviour?',\n",
       "       'Management or Technical', 'Salary/Work', 'Hard/Smart worker',\n",
       "       'Worked in Teams Ever?', 'Introvert', 'Suggested Job Role'],\n",
       "      dtype='object')"
      ]
     },
     "execution_count": 493,
     "metadata": {},
     "output_type": "execute_result"
    }
   ],
   "source": [
    "df.columns"
   ]
  },
  {
   "cell_type": "markdown",
   "metadata": {},
   "source": [
    "Information about each columns."
   ]
  },
  {
   "cell_type": "code",
   "execution_count": 494,
   "metadata": {},
   "outputs": [
    {
     "name": "stdout",
     "output_type": "stream",
     "text": [
      "<class 'pandas.core.frame.DataFrame'>\n",
      "RangeIndex: 20000 entries, 0 to 19999\n",
      "Data columns (total 39 columns):\n",
      " #   Column                                    Non-Null Count  Dtype \n",
      "---  ------                                    --------------  ----- \n",
      " 0   Academic Percentage in Operating Systems  20000 non-null  int64 \n",
      " 1   Percentage in Algorithms                  20000 non-null  int64 \n",
      " 2   Percentage in Programming Concepts        20000 non-null  int64 \n",
      " 3   Percentage in Software Engineering        20000 non-null  int64 \n",
      " 4   Percentage in Computer Networks           20000 non-null  int64 \n",
      " 5   Percentage in Electronics Subjects        20000 non-null  int64 \n",
      " 6   Percentage in Computer Architecture       20000 non-null  int64 \n",
      " 7   Percentage in Mathematics                 20000 non-null  int64 \n",
      " 8   Percentage in Communication skills        20000 non-null  int64 \n",
      " 9   Hours Working Per Day                     20000 non-null  int64 \n",
      " 10  Logical Quotient Rating                   20000 non-null  int64 \n",
      " 11  Hackathons                                20000 non-null  int64 \n",
      " 12  Coding Skills Rating                      20000 non-null  int64 \n",
      " 13  Public Speaking Points                    20000 non-null  int64 \n",
      " 14  Can Work Long Time Before System?         20000 non-null  object\n",
      " 15  Self-Learning Capability?                 20000 non-null  object\n",
      " 16  Extra-courses did                         20000 non-null  object\n",
      " 17  Certifications                            20000 non-null  object\n",
      " 18  Workshops                                 20000 non-null  object\n",
      " 19  Talent Tests taken?                       20000 non-null  object\n",
      " 20  Olympiads                                 20000 non-null  object\n",
      " 21  Reading and Writing Skills                20000 non-null  object\n",
      " 22  Memory Capability Score                   20000 non-null  object\n",
      " 23  Interested Subjects                       20000 non-null  object\n",
      " 24  Interested Career Area                    20000 non-null  object\n",
      " 25  Job/Higher Studies?                       20000 non-null  object\n",
      " 26  Type of Company Want to Settle In?        20000 non-null  object\n",
      " 27  Taken Inputs from Seniors or Elders       20000 non-null  object\n",
      " 28  Interested in Games                       20000 non-null  object\n",
      " 29  Interested Type of Books                  20000 non-null  object\n",
      " 30  Salary Range Expected                     20000 non-null  object\n",
      " 31  In a Realtionship?                        20000 non-null  object\n",
      " 32  Gentle or Tuff behaviour?                 20000 non-null  object\n",
      " 33  Management or Technical                   20000 non-null  object\n",
      " 34  Salary/Work                               20000 non-null  object\n",
      " 35  Hard/Smart worker                         20000 non-null  object\n",
      " 36  Worked in Teams Ever?                     20000 non-null  object\n",
      " 37  Introvert                                 20000 non-null  object\n",
      " 38  Suggested Job Role                        20000 non-null  object\n",
      "dtypes: int64(14), object(25)\n",
      "memory usage: 6.0+ MB\n"
     ]
    }
   ],
   "source": [
    "df.info()"
   ]
  },
  {
   "cell_type": "markdown",
   "metadata": {},
   "source": [
    "Description of each columns by calculating mean, min value, 25th %ile, 50th %ile, 75th %ile etc."
   ]
  },
  {
   "cell_type": "code",
   "execution_count": 495,
   "metadata": {},
   "outputs": [
    {
     "data": {
      "text/html": [
       "<div>\n",
       "<style scoped>\n",
       "    .dataframe tbody tr th:only-of-type {\n",
       "        vertical-align: middle;\n",
       "    }\n",
       "\n",
       "    .dataframe tbody tr th {\n",
       "        vertical-align: top;\n",
       "    }\n",
       "\n",
       "    .dataframe thead th {\n",
       "        text-align: right;\n",
       "    }\n",
       "</style>\n",
       "<table border=\"1\" class=\"dataframe\">\n",
       "  <thead>\n",
       "    <tr style=\"text-align: right;\">\n",
       "      <th></th>\n",
       "      <th>Academic Percentage in Operating Systems</th>\n",
       "      <th>Percentage in Algorithms</th>\n",
       "      <th>Percentage in Programming Concepts</th>\n",
       "      <th>Percentage in Software Engineering</th>\n",
       "      <th>Percentage in Computer Networks</th>\n",
       "      <th>Percentage in Electronics Subjects</th>\n",
       "      <th>Percentage in Computer Architecture</th>\n",
       "      <th>Percentage in Mathematics</th>\n",
       "      <th>Percentage in Communication skills</th>\n",
       "      <th>Hours Working Per Day</th>\n",
       "      <th>Logical Quotient Rating</th>\n",
       "      <th>Hackathons</th>\n",
       "      <th>Coding Skills Rating</th>\n",
       "      <th>Public Speaking Points</th>\n",
       "    </tr>\n",
       "  </thead>\n",
       "  <tbody>\n",
       "    <tr>\n",
       "      <th>count</th>\n",
       "      <td>20000.000000</td>\n",
       "      <td>20000.000000</td>\n",
       "      <td>20000.000000</td>\n",
       "      <td>20000.000000</td>\n",
       "      <td>20000.000000</td>\n",
       "      <td>20000.000000</td>\n",
       "      <td>20000.000000</td>\n",
       "      <td>20000.000000</td>\n",
       "      <td>20000.000000</td>\n",
       "      <td>20000.000000</td>\n",
       "      <td>20000.000000</td>\n",
       "      <td>20000.000000</td>\n",
       "      <td>20000.000000</td>\n",
       "      <td>20000.000000</td>\n",
       "    </tr>\n",
       "    <tr>\n",
       "      <th>mean</th>\n",
       "      <td>77.002300</td>\n",
       "      <td>76.948200</td>\n",
       "      <td>77.017550</td>\n",
       "      <td>77.094500</td>\n",
       "      <td>76.958200</td>\n",
       "      <td>77.015550</td>\n",
       "      <td>77.069850</td>\n",
       "      <td>76.913100</td>\n",
       "      <td>76.921450</td>\n",
       "      <td>7.985950</td>\n",
       "      <td>4.995050</td>\n",
       "      <td>2.992650</td>\n",
       "      <td>5.004750</td>\n",
       "      <td>5.012800</td>\n",
       "    </tr>\n",
       "    <tr>\n",
       "      <th>std</th>\n",
       "      <td>10.085697</td>\n",
       "      <td>10.101733</td>\n",
       "      <td>10.134815</td>\n",
       "      <td>10.087837</td>\n",
       "      <td>10.020088</td>\n",
       "      <td>10.168888</td>\n",
       "      <td>10.069059</td>\n",
       "      <td>10.138555</td>\n",
       "      <td>10.103494</td>\n",
       "      <td>2.593798</td>\n",
       "      <td>2.578383</td>\n",
       "      <td>2.005791</td>\n",
       "      <td>2.576831</td>\n",
       "      <td>2.588875</td>\n",
       "    </tr>\n",
       "    <tr>\n",
       "      <th>min</th>\n",
       "      <td>60.000000</td>\n",
       "      <td>60.000000</td>\n",
       "      <td>60.000000</td>\n",
       "      <td>60.000000</td>\n",
       "      <td>60.000000</td>\n",
       "      <td>60.000000</td>\n",
       "      <td>60.000000</td>\n",
       "      <td>60.000000</td>\n",
       "      <td>60.000000</td>\n",
       "      <td>4.000000</td>\n",
       "      <td>1.000000</td>\n",
       "      <td>0.000000</td>\n",
       "      <td>1.000000</td>\n",
       "      <td>1.000000</td>\n",
       "    </tr>\n",
       "    <tr>\n",
       "      <th>25%</th>\n",
       "      <td>68.000000</td>\n",
       "      <td>68.000000</td>\n",
       "      <td>68.000000</td>\n",
       "      <td>68.000000</td>\n",
       "      <td>68.000000</td>\n",
       "      <td>68.000000</td>\n",
       "      <td>68.000000</td>\n",
       "      <td>68.000000</td>\n",
       "      <td>68.000000</td>\n",
       "      <td>6.000000</td>\n",
       "      <td>3.000000</td>\n",
       "      <td>1.000000</td>\n",
       "      <td>3.000000</td>\n",
       "      <td>3.000000</td>\n",
       "    </tr>\n",
       "    <tr>\n",
       "      <th>50%</th>\n",
       "      <td>77.000000</td>\n",
       "      <td>77.000000</td>\n",
       "      <td>77.000000</td>\n",
       "      <td>77.000000</td>\n",
       "      <td>77.000000</td>\n",
       "      <td>77.000000</td>\n",
       "      <td>77.000000</td>\n",
       "      <td>77.000000</td>\n",
       "      <td>77.000000</td>\n",
       "      <td>8.000000</td>\n",
       "      <td>5.000000</td>\n",
       "      <td>3.000000</td>\n",
       "      <td>5.000000</td>\n",
       "      <td>5.000000</td>\n",
       "    </tr>\n",
       "    <tr>\n",
       "      <th>75%</th>\n",
       "      <td>86.000000</td>\n",
       "      <td>86.000000</td>\n",
       "      <td>86.000000</td>\n",
       "      <td>86.000000</td>\n",
       "      <td>85.000000</td>\n",
       "      <td>86.000000</td>\n",
       "      <td>86.000000</td>\n",
       "      <td>86.000000</td>\n",
       "      <td>86.000000</td>\n",
       "      <td>10.000000</td>\n",
       "      <td>7.000000</td>\n",
       "      <td>5.000000</td>\n",
       "      <td>7.000000</td>\n",
       "      <td>7.000000</td>\n",
       "    </tr>\n",
       "    <tr>\n",
       "      <th>max</th>\n",
       "      <td>94.000000</td>\n",
       "      <td>94.000000</td>\n",
       "      <td>94.000000</td>\n",
       "      <td>94.000000</td>\n",
       "      <td>94.000000</td>\n",
       "      <td>94.000000</td>\n",
       "      <td>94.000000</td>\n",
       "      <td>94.000000</td>\n",
       "      <td>94.000000</td>\n",
       "      <td>12.000000</td>\n",
       "      <td>9.000000</td>\n",
       "      <td>6.000000</td>\n",
       "      <td>9.000000</td>\n",
       "      <td>9.000000</td>\n",
       "    </tr>\n",
       "  </tbody>\n",
       "</table>\n",
       "</div>"
      ],
      "text/plain": [
       "       Academic Percentage in Operating Systems  Percentage in Algorithms  \\\n",
       "count                              20000.000000              20000.000000   \n",
       "mean                                  77.002300                 76.948200   \n",
       "std                                   10.085697                 10.101733   \n",
       "min                                   60.000000                 60.000000   \n",
       "25%                                   68.000000                 68.000000   \n",
       "50%                                   77.000000                 77.000000   \n",
       "75%                                   86.000000                 86.000000   \n",
       "max                                   94.000000                 94.000000   \n",
       "\n",
       "       Percentage in Programming Concepts  Percentage in Software Engineering  \\\n",
       "count                        20000.000000                        20000.000000   \n",
       "mean                            77.017550                           77.094500   \n",
       "std                             10.134815                           10.087837   \n",
       "min                             60.000000                           60.000000   \n",
       "25%                             68.000000                           68.000000   \n",
       "50%                             77.000000                           77.000000   \n",
       "75%                             86.000000                           86.000000   \n",
       "max                             94.000000                           94.000000   \n",
       "\n",
       "       Percentage in Computer Networks  Percentage in Electronics Subjects  \\\n",
       "count                     20000.000000                        20000.000000   \n",
       "mean                         76.958200                           77.015550   \n",
       "std                          10.020088                           10.168888   \n",
       "min                          60.000000                           60.000000   \n",
       "25%                          68.000000                           68.000000   \n",
       "50%                          77.000000                           77.000000   \n",
       "75%                          85.000000                           86.000000   \n",
       "max                          94.000000                           94.000000   \n",
       "\n",
       "       Percentage in Computer Architecture  Percentage in Mathematics  \\\n",
       "count                         20000.000000               20000.000000   \n",
       "mean                             77.069850                  76.913100   \n",
       "std                              10.069059                  10.138555   \n",
       "min                              60.000000                  60.000000   \n",
       "25%                              68.000000                  68.000000   \n",
       "50%                              77.000000                  77.000000   \n",
       "75%                              86.000000                  86.000000   \n",
       "max                              94.000000                  94.000000   \n",
       "\n",
       "       Percentage in Communication skills  Hours Working Per Day  \\\n",
       "count                        20000.000000           20000.000000   \n",
       "mean                            76.921450               7.985950   \n",
       "std                             10.103494               2.593798   \n",
       "min                             60.000000               4.000000   \n",
       "25%                             68.000000               6.000000   \n",
       "50%                             77.000000               8.000000   \n",
       "75%                             86.000000              10.000000   \n",
       "max                             94.000000              12.000000   \n",
       "\n",
       "       Logical Quotient Rating    Hackathons  Coding Skills Rating  \\\n",
       "count             20000.000000  20000.000000          20000.000000   \n",
       "mean                  4.995050      2.992650              5.004750   \n",
       "std                   2.578383      2.005791              2.576831   \n",
       "min                   1.000000      0.000000              1.000000   \n",
       "25%                   3.000000      1.000000              3.000000   \n",
       "50%                   5.000000      3.000000              5.000000   \n",
       "75%                   7.000000      5.000000              7.000000   \n",
       "max                   9.000000      6.000000              9.000000   \n",
       "\n",
       "       Public Speaking Points  \n",
       "count            20000.000000  \n",
       "mean                 5.012800  \n",
       "std                  2.588875  \n",
       "min                  1.000000  \n",
       "25%                  3.000000  \n",
       "50%                  5.000000  \n",
       "75%                  7.000000  \n",
       "max                  9.000000  "
      ]
     },
     "execution_count": 495,
     "metadata": {},
     "output_type": "execute_result"
    }
   ],
   "source": [
    "df.describe()"
   ]
  },
  {
   "cell_type": "markdown",
   "metadata": {},
   "source": [
    "Importing seaborn and matplotlib"
   ]
  },
  {
   "cell_type": "code",
   "execution_count": 496,
   "metadata": {},
   "outputs": [],
   "source": [
    "import seaborn as sns\n",
    "import matplotlib.pyplot as plt\n",
    "import warnings\n",
    "warnings.filterwarnings(\"ignore\")"
   ]
  },
  {
   "cell_type": "markdown",
   "metadata": {},
   "source": [
    "The heatmap is showing blue color at all places. This indicates that the none of the features are much correlated with each other."
   ]
  },
  {
   "cell_type": "code",
   "execution_count": 497,
   "metadata": {},
   "outputs": [
    {
     "data": {
      "text/plain": [
       "<AxesSubplot:>"
      ]
     },
     "execution_count": 497,
     "metadata": {},
     "output_type": "execute_result"
    },
    {
     "data": {
      "image/png": "[encoded data removed]",
      "text/plain": [
       "<Figure size 640x480 with 2 Axes>"
      ]
     },
     "metadata": {},
     "output_type": "display_data"
    }
   ],
   "source": [
    "sns.heatmap(df.corr())"
   ]
  },
  {
   "cell_type": "markdown",
   "metadata": {},
   "source": [
    "Listing down all the Unique Job Roles so that generalization can be done."
   ]
  },
  {
   "cell_type": "code",
   "execution_count": 498,
   "metadata": {},
   "outputs": [
    {
     "data": {
      "text/plain": [
       "array(['Database Developer', 'Portal Administrator',\n",
       "       'Systems Security Administrator', 'Business Systems Analyst',\n",
       "       'Software Systems Engineer', 'Business Intelligence Analyst',\n",
       "       'CRM Technical Developer', 'Mobile Applications Developer',\n",
       "       'UX Designer', 'Quality Assurance Associate', 'Web Developer',\n",
       "       'Information Security Analyst', 'CRM Business Analyst',\n",
       "       'Technical Support', 'Project Manager',\n",
       "       'Information Technology Manager', 'Programmer Analyst',\n",
       "       'Design & UX', 'Solutions Architect', 'Systems Analyst',\n",
       "       'Network Security Administrator', 'Data Architect',\n",
       "       'Software Developer', 'E-Commerce Analyst',\n",
       "       'Technical Services/Help Desk/Tech Support',\n",
       "       'Information Technology Auditor', 'Database Manager',\n",
       "       'Applications Developer', 'Database Administrator',\n",
       "       'Network Engineer', 'Software Engineer', 'Technical Engineer',\n",
       "       'Network Security Engineer',\n",
       "       'Software Quality Assurance (QA) / Testing'], dtype=object)"
      ]
     },
     "execution_count": 498,
     "metadata": {},
     "output_type": "execute_result"
    }
   ],
   "source": [
    "unique_job_roles = df['Suggested Job Role'].unique()\n",
    "len(unique_job_roles)\n",
    "unique_job_roles"
   ]
  },
  {
   "cell_type": "markdown",
   "metadata": {},
   "source": [
    "Showcasing number of Job Roles suggested for every category"
   ]
  },
  {
   "cell_type": "code",
   "execution_count": 499,
   "metadata": {},
   "outputs": [
    {
     "data": {
      "image/png": "[encoded data removed]",
      "text/plain": [
       "<Figure size 640x480 with 1 Axes>"
      ]
     },
     "metadata": {},
     "output_type": "display_data"
    }
   ],
   "source": [
    "names = df.iloc[:,-1]\n",
    "plot = sns.countplot(x = names)\n",
    "plot.set_xticklabels(plot.get_xticklabels(),rotation = 90)\n",
    "plt.show()"
   ]
  },
  {
   "cell_type": "markdown",
   "metadata": {},
   "source": [
    "### Firstly training the model as it is to show how inconsistent the data is, and the need/importance of processing the data to suitable standard before making an ML model."
   ]
  },
  {
   "cell_type": "markdown",
   "metadata": {},
   "source": [
    "# 1st attempt"
   ]
  },
  {
   "cell_type": "markdown",
   "metadata": {},
   "source": [
    "Changing all strings to an integer value."
   ]
  },
  {
   "cell_type": "code",
   "execution_count": 500,
   "metadata": {},
   "outputs": [
    {
     "data": {
      "text/html": [
       "<div>\n",
       "<style scoped>\n",
       "    .dataframe tbody tr th:only-of-type {\n",
       "        vertical-align: middle;\n",
       "    }\n",
       "\n",
       "    .dataframe tbody tr th {\n",
       "        vertical-align: top;\n",
       "    }\n",
       "\n",
       "    .dataframe thead th {\n",
       "        text-align: right;\n",
       "    }\n",
       "</style>\n",
       "<table border=\"1\" class=\"dataframe\">\n",
       "  <thead>\n",
       "    <tr style=\"text-align: right;\">\n",
       "      <th></th>\n",
       "      <th>Academic Percentage in Operating Systems</th>\n",
       "      <th>Percentage in Algorithms</th>\n",
       "      <th>Percentage in Programming Concepts</th>\n",
       "      <th>Percentage in Software Engineering</th>\n",
       "      <th>Percentage in Computer Networks</th>\n",
       "      <th>Percentage in Electronics Subjects</th>\n",
       "      <th>Percentage in Computer Architecture</th>\n",
       "      <th>Percentage in Mathematics</th>\n",
       "      <th>Percentage in Communication skills</th>\n",
       "      <th>Hours Working Per Day</th>\n",
       "      <th>...</th>\n",
       "      <th>Interested Type of Books</th>\n",
       "      <th>Salary Range Expected</th>\n",
       "      <th>In a Realtionship?</th>\n",
       "      <th>Gentle or Tuff behaviour?</th>\n",
       "      <th>Management or Technical</th>\n",
       "      <th>Salary/Work</th>\n",
       "      <th>Hard/Smart worker</th>\n",
       "      <th>Worked in Teams Ever?</th>\n",
       "      <th>Introvert</th>\n",
       "      <th>Suggested Job Role</th>\n",
       "    </tr>\n",
       "  </thead>\n",
       "  <tbody>\n",
       "    <tr>\n",
       "      <th>0</th>\n",
       "      <td>9</td>\n",
       "      <td>3</td>\n",
       "      <td>18</td>\n",
       "      <td>27</td>\n",
       "      <td>34</td>\n",
       "      <td>34</td>\n",
       "      <td>27</td>\n",
       "      <td>24</td>\n",
       "      <td>1</td>\n",
       "      <td>5</td>\n",
       "      <td>...</td>\n",
       "      <td>21</td>\n",
       "      <td>1</td>\n",
       "      <td>0</td>\n",
       "      <td>1</td>\n",
       "      <td>0</td>\n",
       "      <td>0</td>\n",
       "      <td>0</td>\n",
       "      <td>1</td>\n",
       "      <td>0</td>\n",
       "      <td>7</td>\n",
       "    </tr>\n",
       "    <tr>\n",
       "      <th>1</th>\n",
       "      <td>18</td>\n",
       "      <td>2</td>\n",
       "      <td>13</td>\n",
       "      <td>0</td>\n",
       "      <td>11</td>\n",
       "      <td>10</td>\n",
       "      <td>13</td>\n",
       "      <td>24</td>\n",
       "      <td>31</td>\n",
       "      <td>8</td>\n",
       "      <td>...</td>\n",
       "      <td>5</td>\n",
       "      <td>1</td>\n",
       "      <td>1</td>\n",
       "      <td>0</td>\n",
       "      <td>1</td>\n",
       "      <td>0</td>\n",
       "      <td>0</td>\n",
       "      <td>0</td>\n",
       "      <td>1</td>\n",
       "      <td>18</td>\n",
       "    </tr>\n",
       "    <tr>\n",
       "      <th>2</th>\n",
       "      <td>11</td>\n",
       "      <td>26</td>\n",
       "      <td>31</td>\n",
       "      <td>27</td>\n",
       "      <td>1</td>\n",
       "      <td>21</td>\n",
       "      <td>12</td>\n",
       "      <td>12</td>\n",
       "      <td>34</td>\n",
       "      <td>7</td>\n",
       "      <td>...</td>\n",
       "      <td>29</td>\n",
       "      <td>0</td>\n",
       "      <td>0</td>\n",
       "      <td>1</td>\n",
       "      <td>0</td>\n",
       "      <td>1</td>\n",
       "      <td>0</td>\n",
       "      <td>0</td>\n",
       "      <td>1</td>\n",
       "      <td>18</td>\n",
       "    </tr>\n",
       "    <tr>\n",
       "      <th>3</th>\n",
       "      <td>16</td>\n",
       "      <td>27</td>\n",
       "      <td>0</td>\n",
       "      <td>24</td>\n",
       "      <td>29</td>\n",
       "      <td>13</td>\n",
       "      <td>2</td>\n",
       "      <td>28</td>\n",
       "      <td>9</td>\n",
       "      <td>3</td>\n",
       "      <td>...</td>\n",
       "      <td>23</td>\n",
       "      <td>0</td>\n",
       "      <td>1</td>\n",
       "      <td>0</td>\n",
       "      <td>0</td>\n",
       "      <td>1</td>\n",
       "      <td>1</td>\n",
       "      <td>1</td>\n",
       "      <td>1</td>\n",
       "      <td>28</td>\n",
       "    </tr>\n",
       "    <tr>\n",
       "      <th>4</th>\n",
       "      <td>32</td>\n",
       "      <td>2</td>\n",
       "      <td>30</td>\n",
       "      <td>7</td>\n",
       "      <td>11</td>\n",
       "      <td>29</td>\n",
       "      <td>13</td>\n",
       "      <td>11</td>\n",
       "      <td>13</td>\n",
       "      <td>0</td>\n",
       "      <td>...</td>\n",
       "      <td>7</td>\n",
       "      <td>1</td>\n",
       "      <td>0</td>\n",
       "      <td>1</td>\n",
       "      <td>0</td>\n",
       "      <td>1</td>\n",
       "      <td>0</td>\n",
       "      <td>1</td>\n",
       "      <td>1</td>\n",
       "      <td>2</td>\n",
       "    </tr>\n",
       "  </tbody>\n",
       "</table>\n",
       "<p>5 rows × 39 columns</p>\n",
       "</div>"
      ],
      "text/plain": [
       "   Academic Percentage in Operating Systems  Percentage in Algorithms  \\\n",
       "0                                         9                         3   \n",
       "1                                        18                         2   \n",
       "2                                        11                        26   \n",
       "3                                        16                        27   \n",
       "4                                        32                         2   \n",
       "\n",
       "   Percentage in Programming Concepts  Percentage in Software Engineering  \\\n",
       "0                                  18                                  27   \n",
       "1                                  13                                   0   \n",
       "2                                  31                                  27   \n",
       "3                                   0                                  24   \n",
       "4                                  30                                   7   \n",
       "\n",
       "   Percentage in Computer Networks  Percentage in Electronics Subjects  \\\n",
       "0                               34                                  34   \n",
       "1                               11                                  10   \n",
       "2                                1                                  21   \n",
       "3                               29                                  13   \n",
       "4                               11                                  29   \n",
       "\n",
       "   Percentage in Computer Architecture  Percentage in Mathematics  \\\n",
       "0                                   27                         24   \n",
       "1                                   13                         24   \n",
       "2                                   12                         12   \n",
       "3                                    2                         28   \n",
       "4                                   13                         11   \n",
       "\n",
       "   Percentage in Communication skills  Hours Working Per Day  ...  \\\n",
       "0                                   1                      5  ...   \n",
       "1                                  31                      8  ...   \n",
       "2                                  34                      7  ...   \n",
       "3                                   9                      3  ...   \n",
       "4                                  13                      0  ...   \n",
       "\n",
       "   Interested Type of Books  Salary Range Expected  In a Realtionship?  \\\n",
       "0                        21                      1                   0   \n",
       "1                         5                      1                   1   \n",
       "2                        29                      0                   0   \n",
       "3                        23                      0                   1   \n",
       "4                         7                      1                   0   \n",
       "\n",
       "   Gentle or Tuff behaviour?  Management or Technical  Salary/Work  \\\n",
       "0                          1                        0            0   \n",
       "1                          0                        1            0   \n",
       "2                          1                        0            1   \n",
       "3                          0                        0            1   \n",
       "4                          1                        0            1   \n",
       "\n",
       "   Hard/Smart worker  Worked in Teams Ever?  Introvert  Suggested Job Role  \n",
       "0                  0                      1          0                   7  \n",
       "1                  0                      0          1                  18  \n",
       "2                  0                      0          1                  18  \n",
       "3                  1                      1          1                  28  \n",
       "4                  0                      1          1                   2  \n",
       "\n",
       "[5 rows x 39 columns]"
      ]
     },
     "execution_count": 500,
     "metadata": {},
     "output_type": "execute_result"
    }
   ],
   "source": [
    "from collections import defaultdict\n",
    "from sklearn.preprocessing import LabelEncoder\n",
    "\n",
    "dct = defaultdict(LabelEncoder)\n",
    "tempDf = df\n",
    "tempDf = tempDf.apply(lambda param: dct[param.name].fit_transform(param))\n",
    "tempDf.head()"
   ]
  },
  {
   "cell_type": "markdown",
   "metadata": {},
   "source": [
    "Storing our result and Data in seperate variables."
   ]
  },
  {
   "cell_type": "code",
   "execution_count": 501,
   "metadata": {},
   "outputs": [],
   "source": [
    "X = tempDf.drop('Suggested Job Role', axis = 1)\n",
    "y = tempDf['Suggested Job Role']\n"
   ]
  },
  {
   "cell_type": "markdown",
   "metadata": {},
   "source": [
    "Generating our training and testing models with (train : test) in the ratio of (75 : 25)."
   ]
  },
  {
   "cell_type": "code",
   "execution_count": 502,
   "metadata": {},
   "outputs": [],
   "source": [
    "from sklearn.model_selection import train_test_split\n",
    "X_train, X_test, y_train, y_test = train_test_split(X, y, test_size = 0.25, random_state = 42)"
   ]
  },
  {
   "cell_type": "markdown",
   "metadata": {},
   "source": [
    "Building our Neural Network"
   ]
  },
  {
   "cell_type": "code",
   "execution_count": 503,
   "metadata": {},
   "outputs": [],
   "source": [
    "from sklearn.neural_network import MLPClassifier\n",
    "perceptron = MLPClassifier(hidden_layer_sizes = (15,15,15,15,15,15), max_iter = 500)\n",
    "perceptron.fit(X_train, y_train)\n",
    "predict_perceptron = perceptron.predict(X_test)"
   ]
  },
  {
   "cell_type": "markdown",
   "metadata": {},
   "source": [
    "We see that accuracy of our model currently is really low, we have to prep the data beforehand."
   ]
  },
  {
   "cell_type": "code",
   "execution_count": 504,
   "metadata": {},
   "outputs": [
    {
     "name": "stdout",
     "output_type": "stream",
     "text": [
      "The accuracy score of the model is:  4.46 %\n"
     ]
    }
   ],
   "source": [
    "from sklearn.metrics import confusion_matrix, classification_report\n",
    "print(\"The accuracy score of the model is: \", perceptron.score(X_test, y_test)*100, \"%\")"
   ]
  },
  {
   "cell_type": "markdown",
   "metadata": {},
   "source": [
    "Classification Report"
   ]
  },
  {
   "cell_type": "code",
   "execution_count": 505,
   "metadata": {},
   "outputs": [
    {
     "name": "stdout",
     "output_type": "stream",
     "text": [
      "The classification report is as follows:-\n",
      "\n",
      "              precision    recall  f1-score   support\n",
      "\n",
      "           0       0.05      0.02      0.02       131\n",
      "           1       0.00      0.00      0.00       117\n",
      "           2       0.05      0.01      0.01       143\n",
      "           3       0.00      0.00      0.00       136\n",
      "           4       0.03      0.02      0.02       126\n",
      "           5       0.01      0.01      0.01       142\n",
      "           6       0.05      0.05      0.05       153\n",
      "           7       0.00      0.00      0.00       146\n",
      "           8       0.00      0.00      0.00       155\n",
      "           9       0.00      0.00      0.00       161\n",
      "          10       0.02      0.01      0.01       141\n",
      "          11       0.04      0.01      0.01       130\n",
      "          12       0.02      0.01      0.01       143\n",
      "          13       0.00      0.00      0.00       153\n",
      "          14       0.00      0.00      0.00       134\n",
      "          15       0.00      0.00      0.00       149\n",
      "          16       0.05      0.60      0.10       262\n",
      "          17       0.03      0.02      0.02       162\n",
      "          18       0.07      0.06      0.07       147\n",
      "          19       0.10      0.01      0.01       140\n",
      "          20       0.01      0.01      0.01       151\n",
      "          21       0.00      0.00      0.00       161\n",
      "          22       0.04      0.05      0.05       132\n",
      "          23       0.00      0.00      0.00       146\n",
      "          24       0.03      0.01      0.01       146\n",
      "          25       0.06      0.02      0.03       159\n",
      "          26       0.04      0.09      0.06       150\n",
      "          27       0.03      0.02      0.03       122\n",
      "          28       0.05      0.01      0.01       143\n",
      "          29       0.00      0.00      0.00       147\n",
      "          30       0.00      0.00      0.00       160\n",
      "          31       0.04      0.03      0.03       136\n",
      "          32       0.08      0.01      0.01       125\n",
      "          33       0.04      0.01      0.01       151\n",
      "\n",
      "    accuracy                           0.04      5000\n",
      "   macro avg       0.03      0.03      0.02      5000\n",
      "weighted avg       0.03      0.04      0.02      5000\n",
      "\n"
     ]
    }
   ],
   "source": [
    "print(\"The classification report is as follows:-\\n\")\n",
    "print(classification_report(y_test, predict_perceptron))"
   ]
  },
  {
   "cell_type": "markdown",
   "metadata": {},
   "source": [
    "Confusion Matrix"
   ]
  },
  {
   "cell_type": "code",
   "execution_count": 506,
   "metadata": {},
   "outputs": [
    {
     "name": "stdout",
     "output_type": "stream",
     "text": [
      "The confusion matrix is as follows:-\n",
      "\n",
      "[[2 1 0 ... 4 0 0]\n",
      " [0 0 2 ... 4 0 2]\n",
      " [2 1 1 ... 0 0 2]\n",
      " ...\n",
      " [3 1 1 ... 4 0 0]\n",
      " [0 1 0 ... 0 1 1]\n",
      " [1 1 1 ... 4 0 1]]\n"
     ]
    }
   ],
   "source": [
    "print(\"The confusion matrix is as follows:-\\n\")\n",
    "confusion_mat = confusion_matrix(y_test, predict_perceptron)\n",
    "print(confusion_mat)"
   ]
  },
  {
   "cell_type": "markdown",
   "metadata": {},
   "source": [
    "# Modification of the Database "
   ]
  },
  {
   "cell_type": "markdown",
   "metadata": {},
   "source": [
    "# 2nd attempt"
   ]
  },
  {
   "cell_type": "markdown",
   "metadata": {},
   "source": [
    "Categorizing similar jobs based on their roles."
   ]
  },
  {
   "cell_type": "code",
   "execution_count": 507,
   "metadata": {},
   "outputs": [],
   "source": [
    "df = df.replace(to_replace = ['Portal Administrator', 'Systems Security Administrator', 'Network Security Administrator', 'Database Administrator'], value = 'Admins')\n",
    "df = df.replace(to_replace = ['Database Developer', 'CRM Technical Developer', 'Mobile Applications Developer', 'Web Developer', 'Software Developer', 'Applications Developer'], value = 'Development')\n",
    "df = df.replace(to_replace = ['E-Commerce Analyst', 'Business Systems Analyst', 'Business Intelligence Analyst', 'CRM Business Analyst', 'Programmer Analyst', 'Systems Analyst', 'Information Security Analyst'], value = 'Analyst')\n",
    "df = df.replace(to_replace = ['Software Systems Engineer', 'Network Engineer', 'Software Engineer', 'Technical Engineer', 'Network Security Engineer'], value = 'Engineer')\n",
    "df = df.replace(to_replace = ['UX Designer', 'Design & UX',], value = 'UI/UX Designer')\n",
    "df = df.replace(to_replace = ['Quality Assurance Associate', 'Technical Support', 'Technical Services/Help Desk/Tech Support', 'Information Technology Auditor', 'Software Quality Assurance (QA) / Testing'], value = 'Quality Testing')\n",
    "df = df.replace(to_replace = ['Project Manager', 'Database Manager', 'Information Technology Manager'], value = 'Managerial Positions')\n",
    "df = df.replace(to_replace = ['Solutions Architect', 'Data Architect'], value = 'Architect')"
   ]
  },
  {
   "cell_type": "markdown",
   "metadata": {},
   "source": [
    "Storing the dataframe so that modifications can be done later upon this dataframe."
   ]
  },
  {
   "cell_type": "code",
   "execution_count": 508,
   "metadata": {},
   "outputs": [],
   "source": [
    "original_df = df"
   ]
  },
  {
   "cell_type": "markdown",
   "metadata": {},
   "source": [
    "Showcasing number of Job Roles suggested for every category after normalization."
   ]
  },
  {
   "cell_type": "code",
   "execution_count": 509,
   "metadata": {},
   "outputs": [
    {
     "data": {
      "image/png": "[encoded data removed]",
      "text/plain": [
       "<Figure size 640x480 with 1 Axes>"
      ]
     },
     "metadata": {},
     "output_type": "display_data"
    }
   ],
   "source": [
    "names = df.iloc[:,-1]\n",
    "plot = sns.countplot(x = names)\n",
    "plot.set_xticklabels(plot.get_xticklabels(),rotation=90)\n",
    "plt.show()"
   ]
  },
  {
   "cell_type": "markdown",
   "metadata": {},
   "source": [
    "Changing all strings to an integer value."
   ]
  },
  {
   "cell_type": "code",
   "execution_count": 510,
   "metadata": {},
   "outputs": [
    {
     "data": {
      "text/html": [
       "<div>\n",
       "<style scoped>\n",
       "    .dataframe tbody tr th:only-of-type {\n",
       "        vertical-align: middle;\n",
       "    }\n",
       "\n",
       "    .dataframe tbody tr th {\n",
       "        vertical-align: top;\n",
       "    }\n",
       "\n",
       "    .dataframe thead th {\n",
       "        text-align: right;\n",
       "    }\n",
       "</style>\n",
       "<table border=\"1\" class=\"dataframe\">\n",
       "  <thead>\n",
       "    <tr style=\"text-align: right;\">\n",
       "      <th></th>\n",
       "      <th>Academic Percentage in Operating Systems</th>\n",
       "      <th>Percentage in Algorithms</th>\n",
       "      <th>Percentage in Programming Concepts</th>\n",
       "      <th>Percentage in Software Engineering</th>\n",
       "      <th>Percentage in Computer Networks</th>\n",
       "      <th>Percentage in Electronics Subjects</th>\n",
       "      <th>Percentage in Computer Architecture</th>\n",
       "      <th>Percentage in Mathematics</th>\n",
       "      <th>Percentage in Communication skills</th>\n",
       "      <th>Hours Working Per Day</th>\n",
       "      <th>...</th>\n",
       "      <th>Interested Type of Books</th>\n",
       "      <th>Salary Range Expected</th>\n",
       "      <th>In a Realtionship?</th>\n",
       "      <th>Gentle or Tuff behaviour?</th>\n",
       "      <th>Management or Technical</th>\n",
       "      <th>Salary/Work</th>\n",
       "      <th>Hard/Smart worker</th>\n",
       "      <th>Worked in Teams Ever?</th>\n",
       "      <th>Introvert</th>\n",
       "      <th>Suggested Job Role</th>\n",
       "    </tr>\n",
       "  </thead>\n",
       "  <tbody>\n",
       "    <tr>\n",
       "      <th>0</th>\n",
       "      <td>9</td>\n",
       "      <td>3</td>\n",
       "      <td>18</td>\n",
       "      <td>27</td>\n",
       "      <td>34</td>\n",
       "      <td>34</td>\n",
       "      <td>27</td>\n",
       "      <td>24</td>\n",
       "      <td>1</td>\n",
       "      <td>5</td>\n",
       "      <td>...</td>\n",
       "      <td>21</td>\n",
       "      <td>1</td>\n",
       "      <td>0</td>\n",
       "      <td>1</td>\n",
       "      <td>0</td>\n",
       "      <td>0</td>\n",
       "      <td>0</td>\n",
       "      <td>1</td>\n",
       "      <td>0</td>\n",
       "      <td>3</td>\n",
       "    </tr>\n",
       "    <tr>\n",
       "      <th>1</th>\n",
       "      <td>18</td>\n",
       "      <td>2</td>\n",
       "      <td>13</td>\n",
       "      <td>0</td>\n",
       "      <td>11</td>\n",
       "      <td>10</td>\n",
       "      <td>13</td>\n",
       "      <td>24</td>\n",
       "      <td>31</td>\n",
       "      <td>8</td>\n",
       "      <td>...</td>\n",
       "      <td>5</td>\n",
       "      <td>1</td>\n",
       "      <td>1</td>\n",
       "      <td>0</td>\n",
       "      <td>1</td>\n",
       "      <td>0</td>\n",
       "      <td>0</td>\n",
       "      <td>0</td>\n",
       "      <td>1</td>\n",
       "      <td>0</td>\n",
       "    </tr>\n",
       "    <tr>\n",
       "      <th>2</th>\n",
       "      <td>11</td>\n",
       "      <td>26</td>\n",
       "      <td>31</td>\n",
       "      <td>27</td>\n",
       "      <td>1</td>\n",
       "      <td>21</td>\n",
       "      <td>12</td>\n",
       "      <td>12</td>\n",
       "      <td>34</td>\n",
       "      <td>7</td>\n",
       "      <td>...</td>\n",
       "      <td>29</td>\n",
       "      <td>0</td>\n",
       "      <td>0</td>\n",
       "      <td>1</td>\n",
       "      <td>0</td>\n",
       "      <td>1</td>\n",
       "      <td>0</td>\n",
       "      <td>0</td>\n",
       "      <td>1</td>\n",
       "      <td>0</td>\n",
       "    </tr>\n",
       "    <tr>\n",
       "      <th>3</th>\n",
       "      <td>16</td>\n",
       "      <td>27</td>\n",
       "      <td>0</td>\n",
       "      <td>24</td>\n",
       "      <td>29</td>\n",
       "      <td>13</td>\n",
       "      <td>2</td>\n",
       "      <td>28</td>\n",
       "      <td>9</td>\n",
       "      <td>3</td>\n",
       "      <td>...</td>\n",
       "      <td>23</td>\n",
       "      <td>0</td>\n",
       "      <td>1</td>\n",
       "      <td>0</td>\n",
       "      <td>0</td>\n",
       "      <td>1</td>\n",
       "      <td>1</td>\n",
       "      <td>1</td>\n",
       "      <td>1</td>\n",
       "      <td>0</td>\n",
       "    </tr>\n",
       "    <tr>\n",
       "      <th>4</th>\n",
       "      <td>32</td>\n",
       "      <td>2</td>\n",
       "      <td>30</td>\n",
       "      <td>7</td>\n",
       "      <td>11</td>\n",
       "      <td>29</td>\n",
       "      <td>13</td>\n",
       "      <td>11</td>\n",
       "      <td>13</td>\n",
       "      <td>0</td>\n",
       "      <td>...</td>\n",
       "      <td>7</td>\n",
       "      <td>1</td>\n",
       "      <td>0</td>\n",
       "      <td>1</td>\n",
       "      <td>0</td>\n",
       "      <td>1</td>\n",
       "      <td>0</td>\n",
       "      <td>1</td>\n",
       "      <td>1</td>\n",
       "      <td>1</td>\n",
       "    </tr>\n",
       "  </tbody>\n",
       "</table>\n",
       "<p>5 rows × 39 columns</p>\n",
       "</div>"
      ],
      "text/plain": [
       "   Academic Percentage in Operating Systems  Percentage in Algorithms  \\\n",
       "0                                         9                         3   \n",
       "1                                        18                         2   \n",
       "2                                        11                        26   \n",
       "3                                        16                        27   \n",
       "4                                        32                         2   \n",
       "\n",
       "   Percentage in Programming Concepts  Percentage in Software Engineering  \\\n",
       "0                                  18                                  27   \n",
       "1                                  13                                   0   \n",
       "2                                  31                                  27   \n",
       "3                                   0                                  24   \n",
       "4                                  30                                   7   \n",
       "\n",
       "   Percentage in Computer Networks  Percentage in Electronics Subjects  \\\n",
       "0                               34                                  34   \n",
       "1                               11                                  10   \n",
       "2                                1                                  21   \n",
       "3                               29                                  13   \n",
       "4                               11                                  29   \n",
       "\n",
       "   Percentage in Computer Architecture  Percentage in Mathematics  \\\n",
       "0                                   27                         24   \n",
       "1                                   13                         24   \n",
       "2                                   12                         12   \n",
       "3                                    2                         28   \n",
       "4                                   13                         11   \n",
       "\n",
       "   Percentage in Communication skills  Hours Working Per Day  ...  \\\n",
       "0                                   1                      5  ...   \n",
       "1                                  31                      8  ...   \n",
       "2                                  34                      7  ...   \n",
       "3                                   9                      3  ...   \n",
       "4                                  13                      0  ...   \n",
       "\n",
       "   Interested Type of Books  Salary Range Expected  In a Realtionship?  \\\n",
       "0                        21                      1                   0   \n",
       "1                         5                      1                   1   \n",
       "2                        29                      0                   0   \n",
       "3                        23                      0                   1   \n",
       "4                         7                      1                   0   \n",
       "\n",
       "   Gentle or Tuff behaviour?  Management or Technical  Salary/Work  \\\n",
       "0                          1                        0            0   \n",
       "1                          0                        1            0   \n",
       "2                          1                        0            1   \n",
       "3                          0                        0            1   \n",
       "4                          1                        0            1   \n",
       "\n",
       "   Hard/Smart worker  Worked in Teams Ever?  Introvert  Suggested Job Role  \n",
       "0                  0                      1          0                   3  \n",
       "1                  0                      0          1                   0  \n",
       "2                  0                      0          1                   0  \n",
       "3                  1                      1          1                   0  \n",
       "4                  0                      1          1                   1  \n",
       "\n",
       "[5 rows x 39 columns]"
      ]
     },
     "execution_count": 510,
     "metadata": {},
     "output_type": "execute_result"
    }
   ],
   "source": [
    "dct = defaultdict(LabelEncoder)\n",
    "df = df.apply(lambda param: dct[param.name].fit_transform(param))\n",
    "df.head()"
   ]
  },
  {
   "cell_type": "markdown",
   "metadata": {},
   "source": [
    "Storing our result and Data in seperate variables."
   ]
  },
  {
   "cell_type": "code",
   "execution_count": 511,
   "metadata": {},
   "outputs": [],
   "source": [
    "X = df.drop('Suggested Job Role', axis = 1)\n",
    "y = df['Suggested Job Role']\n"
   ]
  },
  {
   "cell_type": "markdown",
   "metadata": {},
   "source": [
    "Generating our training and testing models with (train : test) in the ratio of (75 : 25)."
   ]
  },
  {
   "cell_type": "code",
   "execution_count": 512,
   "metadata": {},
   "outputs": [],
   "source": [
    "X_train, X_test, y_train, y_test = train_test_split(X, y, test_size = 0.25, random_state = 42)"
   ]
  },
  {
   "cell_type": "markdown",
   "metadata": {},
   "source": [
    "Building our Neural Network"
   ]
  },
  {
   "cell_type": "code",
   "execution_count": 513,
   "metadata": {},
   "outputs": [],
   "source": [
    "perceptron = MLPClassifier(hidden_layer_sizes = (15,15,15,15,15,15), max_iter = 500)\n",
    "perceptron.fit(X_train, y_train)\n",
    "predict_perceptron = perceptron.predict(X_test)"
   ]
  },
  {
   "cell_type": "markdown",
   "metadata": {},
   "source": [
    "Accuracy of our model "
   ]
  },
  {
   "cell_type": "code",
   "execution_count": 514,
   "metadata": {},
   "outputs": [
    {
     "name": "stdout",
     "output_type": "stream",
     "text": [
      "The accuracy score of the model is:  16.98 %\n"
     ]
    }
   ],
   "source": [
    "print(\"The accuracy score of the model is: \", perceptron.score(X_test, y_test)*100, \"%\")"
   ]
  },
  {
   "cell_type": "code",
   "execution_count": 515,
   "metadata": {},
   "outputs": [
    {
     "data": {
      "text/plain": [
       "Analyst                 3874\n",
       "Development             3394\n",
       "Engineer                2973\n",
       "Admins                  2860\n",
       "Quality Testing         2817\n",
       "Managerial Positions    1763\n",
       "UI/UX Designer          1177\n",
       "Architect               1142\n",
       "Name: Suggested Job Role, dtype: int64"
      ]
     },
     "execution_count": 515,
     "metadata": {},
     "output_type": "execute_result"
    }
   ],
   "source": [
    "original_df['Suggested Job Role'].value_counts()"
   ]
  },
  {
   "cell_type": "markdown",
   "metadata": {},
   "source": [
    "Classification Report"
   ]
  },
  {
   "cell_type": "code",
   "execution_count": 516,
   "metadata": {},
   "outputs": [
    {
     "name": "stdout",
     "output_type": "stream",
     "text": [
      "The classification report is as follows:-\n",
      "\n",
      "                      precision    recall  f1-score   support\n",
      "\n",
      "             Analyst       0.14      0.07      0.09       705\n",
      "         Development       0.18      0.56      0.28       929\n",
      "            Engineer       0.00      0.00      0.00       292\n",
      "              Admins       0.17      0.23      0.19       820\n",
      "     Quality Testing       0.12      0.05      0.07       763\n",
      "Managerial Positions       0.09      0.01      0.02       459\n",
      "      UI/UX Designer       0.16      0.05      0.08       746\n",
      "           Architect       0.15      0.02      0.04       286\n",
      "\n",
      "            accuracy                           0.17      5000\n",
      "           macro avg       0.13      0.12      0.10      5000\n",
      "        weighted avg       0.14      0.17      0.12      5000\n",
      "\n"
     ]
    }
   ],
   "source": [
    "print(\"The classification report is as follows:-\\n\")\n",
    "dec_df = df.apply(lambda param: dct[param.name].inverse_transform(param))\n",
    "job_roles = ['Analyst', 'Development', 'Engineer', 'Admins', 'Quality Testing', 'Managerial Positions', 'UI/UX Designer', 'Architect']\n",
    "print(classification_report(y_test, predict_perceptron, target_names = job_roles))"
   ]
  },
  {
   "cell_type": "markdown",
   "metadata": {},
   "source": [
    "Confusion Matrix"
   ]
  },
  {
   "cell_type": "code",
   "execution_count": 517,
   "metadata": {},
   "outputs": [
    {
     "name": "stdout",
     "output_type": "stream",
     "text": [
      "The confusion matrix is as follows:-\n",
      "\n",
      "[[ 50 415   2 155  32   8  38   5]\n",
      " [ 73 523   0 221  66   8  35   3]\n",
      " [ 29 144   0  71  25   2  18   3]\n",
      " [ 53 467   0 189  59   5  40   7]\n",
      " [ 59 444   2 160  37  11  45   5]\n",
      " [ 29 259   1 108  31   4  23   4]\n",
      " [ 54 420   3 169  47   6  40   7]\n",
      " [ 19 175   1  59  14   2  10   6]]\n"
     ]
    }
   ],
   "source": [
    "print(\"The confusion matrix is as follows:-\\n\")\n",
    "confusion_mat = confusion_matrix(y_test, predict_perceptron)\n",
    "print(confusion_mat)"
   ]
  },
  {
   "cell_type": "markdown",
   "metadata": {},
   "source": [
    "Class-Wise Accuracies"
   ]
  },
  {
   "cell_type": "code",
   "execution_count": 518,
   "metadata": {},
   "outputs": [
    {
     "name": "stdout",
     "output_type": "stream",
     "text": [
      "Analyst :  7.092198581560284 %\n",
      "Development :  56.29709364908504 %\n",
      "Engineer :  0.0 %\n",
      "Admins :  23.04878048780488 %\n",
      "Quality Testing :  4.849279161205767 %\n",
      "Managerial Positions :  0.8714596949891068 %\n",
      "UI/UX Designer :  5.361930294906166 %\n",
      "Architect :  2.097902097902098 %\n"
     ]
    }
   ],
   "source": [
    "class_wise_accuracy = confusion_mat.diagonal()/confusion_mat.sum(axis = 1)\n",
    "for i in range(len(class_wise_accuracy)):\n",
    "    print(job_roles[i], ': ', class_wise_accuracy[i]*100, \"%\")"
   ]
  },
  {
   "cell_type": "markdown",
   "metadata": {},
   "source": [
    "# 3rd attempt"
   ]
  },
  {
   "cell_type": "markdown",
   "metadata": {},
   "source": [
    "Modifying our database more to enhance performance"
   ]
  },
  {
   "cell_type": "code",
   "execution_count": 519,
   "metadata": {},
   "outputs": [
    {
     "data": {
      "text/html": [
       "<div>\n",
       "<style scoped>\n",
       "    .dataframe tbody tr th:only-of-type {\n",
       "        vertical-align: middle;\n",
       "    }\n",
       "\n",
       "    .dataframe tbody tr th {\n",
       "        vertical-align: top;\n",
       "    }\n",
       "\n",
       "    .dataframe thead th {\n",
       "        text-align: right;\n",
       "    }\n",
       "</style>\n",
       "<table border=\"1\" class=\"dataframe\">\n",
       "  <thead>\n",
       "    <tr style=\"text-align: right;\">\n",
       "      <th></th>\n",
       "      <th>Academic Percentage in Operating Systems</th>\n",
       "      <th>Percentage in Algorithms</th>\n",
       "      <th>Percentage in Programming Concepts</th>\n",
       "      <th>Percentage in Software Engineering</th>\n",
       "      <th>Percentage in Computer Networks</th>\n",
       "      <th>Percentage in Electronics Subjects</th>\n",
       "      <th>Percentage in Computer Architecture</th>\n",
       "      <th>Percentage in Mathematics</th>\n",
       "      <th>Percentage in Communication skills</th>\n",
       "      <th>Logical Quotient Rating</th>\n",
       "      <th>...</th>\n",
       "      <th>Interested Career Area</th>\n",
       "      <th>Job/Higher Studies?</th>\n",
       "      <th>Type of Company Want to Settle In?</th>\n",
       "      <th>Taken Inputs from Seniors or Elders</th>\n",
       "      <th>Interested in Games</th>\n",
       "      <th>Salary Range Expected</th>\n",
       "      <th>Management or Technical</th>\n",
       "      <th>Salary/Work</th>\n",
       "      <th>Hard/Smart worker</th>\n",
       "      <th>Suggested Job Role</th>\n",
       "    </tr>\n",
       "  </thead>\n",
       "  <tbody>\n",
       "    <tr>\n",
       "      <th>0</th>\n",
       "      <td>69</td>\n",
       "      <td>63</td>\n",
       "      <td>78</td>\n",
       "      <td>87</td>\n",
       "      <td>94</td>\n",
       "      <td>94</td>\n",
       "      <td>87</td>\n",
       "      <td>84</td>\n",
       "      <td>61</td>\n",
       "      <td>4</td>\n",
       "      <td>...</td>\n",
       "      <td>system developer</td>\n",
       "      <td>higherstudies</td>\n",
       "      <td>Web Services</td>\n",
       "      <td>no</td>\n",
       "      <td>no</td>\n",
       "      <td>salary</td>\n",
       "      <td>Management</td>\n",
       "      <td>salary</td>\n",
       "      <td>hard worker</td>\n",
       "      <td>Development</td>\n",
       "    </tr>\n",
       "    <tr>\n",
       "      <th>1</th>\n",
       "      <td>78</td>\n",
       "      <td>62</td>\n",
       "      <td>73</td>\n",
       "      <td>60</td>\n",
       "      <td>71</td>\n",
       "      <td>70</td>\n",
       "      <td>73</td>\n",
       "      <td>84</td>\n",
       "      <td>91</td>\n",
       "      <td>7</td>\n",
       "      <td>...</td>\n",
       "      <td>Business process analyst</td>\n",
       "      <td>job</td>\n",
       "      <td>SAaS services</td>\n",
       "      <td>yes</td>\n",
       "      <td>yes</td>\n",
       "      <td>salary</td>\n",
       "      <td>Technical</td>\n",
       "      <td>salary</td>\n",
       "      <td>hard worker</td>\n",
       "      <td>Admins</td>\n",
       "    </tr>\n",
       "    <tr>\n",
       "      <th>2</th>\n",
       "      <td>71</td>\n",
       "      <td>86</td>\n",
       "      <td>91</td>\n",
       "      <td>87</td>\n",
       "      <td>61</td>\n",
       "      <td>81</td>\n",
       "      <td>72</td>\n",
       "      <td>72</td>\n",
       "      <td>94</td>\n",
       "      <td>1</td>\n",
       "      <td>...</td>\n",
       "      <td>developer</td>\n",
       "      <td>higherstudies</td>\n",
       "      <td>Sales and Marketing</td>\n",
       "      <td>yes</td>\n",
       "      <td>yes</td>\n",
       "      <td>Work</td>\n",
       "      <td>Management</td>\n",
       "      <td>work</td>\n",
       "      <td>hard worker</td>\n",
       "      <td>Admins</td>\n",
       "    </tr>\n",
       "    <tr>\n",
       "      <th>3</th>\n",
       "      <td>76</td>\n",
       "      <td>87</td>\n",
       "      <td>60</td>\n",
       "      <td>84</td>\n",
       "      <td>89</td>\n",
       "      <td>73</td>\n",
       "      <td>62</td>\n",
       "      <td>88</td>\n",
       "      <td>69</td>\n",
       "      <td>1</td>\n",
       "      <td>...</td>\n",
       "      <td>testing</td>\n",
       "      <td>higherstudies</td>\n",
       "      <td>Testing and Maintainance Services</td>\n",
       "      <td>no</td>\n",
       "      <td>no</td>\n",
       "      <td>Work</td>\n",
       "      <td>Management</td>\n",
       "      <td>work</td>\n",
       "      <td>smart worker</td>\n",
       "      <td>Admins</td>\n",
       "    </tr>\n",
       "    <tr>\n",
       "      <th>4</th>\n",
       "      <td>92</td>\n",
       "      <td>62</td>\n",
       "      <td>90</td>\n",
       "      <td>67</td>\n",
       "      <td>71</td>\n",
       "      <td>89</td>\n",
       "      <td>73</td>\n",
       "      <td>71</td>\n",
       "      <td>73</td>\n",
       "      <td>5</td>\n",
       "      <td>...</td>\n",
       "      <td>testing</td>\n",
       "      <td>higherstudies</td>\n",
       "      <td>product development</td>\n",
       "      <td>no</td>\n",
       "      <td>yes</td>\n",
       "      <td>salary</td>\n",
       "      <td>Management</td>\n",
       "      <td>work</td>\n",
       "      <td>hard worker</td>\n",
       "      <td>Analyst</td>\n",
       "    </tr>\n",
       "  </tbody>\n",
       "</table>\n",
       "<p>5 rows × 26 columns</p>\n",
       "</div>"
      ],
      "text/plain": [
       "   Academic Percentage in Operating Systems  Percentage in Algorithms  \\\n",
       "0                                        69                        63   \n",
       "1                                        78                        62   \n",
       "2                                        71                        86   \n",
       "3                                        76                        87   \n",
       "4                                        92                        62   \n",
       "\n",
       "   Percentage in Programming Concepts  Percentage in Software Engineering  \\\n",
       "0                                  78                                  87   \n",
       "1                                  73                                  60   \n",
       "2                                  91                                  87   \n",
       "3                                  60                                  84   \n",
       "4                                  90                                  67   \n",
       "\n",
       "   Percentage in Computer Networks  Percentage in Electronics Subjects  \\\n",
       "0                               94                                  94   \n",
       "1                               71                                  70   \n",
       "2                               61                                  81   \n",
       "3                               89                                  73   \n",
       "4                               71                                  89   \n",
       "\n",
       "   Percentage in Computer Architecture  Percentage in Mathematics  \\\n",
       "0                                   87                         84   \n",
       "1                                   73                         84   \n",
       "2                                   72                         72   \n",
       "3                                   62                         88   \n",
       "4                                   73                         71   \n",
       "\n",
       "   Percentage in Communication skills  Logical Quotient Rating  ...  \\\n",
       "0                                  61                        4  ...   \n",
       "1                                  91                        7  ...   \n",
       "2                                  94                        1  ...   \n",
       "3                                  69                        1  ...   \n",
       "4                                  73                        5  ...   \n",
       "\n",
       "    Interested Career Area  Job/Higher Studies?  \\\n",
       "0          system developer       higherstudies   \n",
       "1  Business process analyst                 job   \n",
       "2                 developer       higherstudies   \n",
       "3                   testing       higherstudies   \n",
       "4                   testing       higherstudies   \n",
       "\n",
       "  Type of Company Want to Settle In? Taken Inputs from Seniors or Elders  \\\n",
       "0                       Web Services                                  no   \n",
       "1                      SAaS services                                 yes   \n",
       "2                Sales and Marketing                                 yes   \n",
       "3  Testing and Maintainance Services                                  no   \n",
       "4                product development                                  no   \n",
       "\n",
       "  Interested in Games Salary Range Expected Management or Technical  \\\n",
       "0                  no                salary              Management   \n",
       "1                 yes                salary               Technical   \n",
       "2                 yes                  Work              Management   \n",
       "3                  no                  Work              Management   \n",
       "4                 yes                salary              Management   \n",
       "\n",
       "  Salary/Work Hard/Smart worker Suggested Job Role  \n",
       "0      salary       hard worker        Development  \n",
       "1      salary       hard worker             Admins  \n",
       "2        work       hard worker             Admins  \n",
       "3        work      smart worker             Admins  \n",
       "4        work       hard worker            Analyst  \n",
       "\n",
       "[5 rows x 26 columns]"
      ]
     },
     "execution_count": 519,
     "metadata": {},
     "output_type": "execute_result"
    }
   ],
   "source": [
    "test_df = original_df\n",
    "test_df = test_df.drop(columns = ['Hackathons', 'Extra-courses did', 'Certifications', 'Workshops', 'Talent Tests taken?', 'Introvert', 'In a Realtionship?', 'Gentle or Tuff behaviour?', 'Worked in Teams Ever?', 'Olympiads', 'Hours Working Per Day', 'Public Speaking Points', 'Interested Type of Books'])\n",
    "test_df.head()"
   ]
  },
  {
   "cell_type": "code",
   "execution_count": 520,
   "metadata": {},
   "outputs": [
    {
     "data": {
      "text/plain": [
       "Index(['Academic Percentage in Operating Systems', 'Percentage in Algorithms',\n",
       "       'Percentage in Programming Concepts',\n",
       "       'Percentage in Software Engineering', 'Percentage in Computer Networks',\n",
       "       'Percentage in Electronics Subjects',\n",
       "       'Percentage in Computer Architecture', 'Percentage in Mathematics',\n",
       "       'Percentage in Communication skills', 'Logical Quotient Rating',\n",
       "       'Coding Skills Rating', 'Can Work Long Time Before System?',\n",
       "       'Self-Learning Capability?', 'Reading and Writing Skills',\n",
       "       'Memory Capability Score', 'Interested Subjects',\n",
       "       'Interested Career Area ', 'Job/Higher Studies?',\n",
       "       'Type of Company Want to Settle In?',\n",
       "       'Taken Inputs from Seniors or Elders', 'Interested in Games',\n",
       "       'Salary Range Expected', 'Management or Technical', 'Salary/Work',\n",
       "       'Hard/Smart worker', 'Suggested Job Role'],\n",
       "      dtype='object')"
      ]
     },
     "execution_count": 520,
     "metadata": {},
     "output_type": "execute_result"
    }
   ],
   "source": [
    "test_df.columns"
   ]
  },
  {
   "cell_type": "markdown",
   "metadata": {},
   "source": [
    "Building our Neural Network with values changed parameters and keeping the solver as \"lbfgs\" and keeping (train : test) at a (60 : 40) ratio"
   ]
  },
  {
   "cell_type": "code",
   "execution_count": 521,
   "metadata": {},
   "outputs": [],
   "source": [
    "dct = defaultdict(LabelEncoder)\n",
    "test_df = test_df.apply(lambda param: dct[param.name].fit_transform(param))\n",
    "\n",
    "X = test_df.drop('Suggested Job Role', axis = 1)\n",
    "y = test_df['Suggested Job Role']\n",
    "\n",
    "X_train, X_test, y_train, y_test = train_test_split(X, y, test_size = 0.40, random_state = 42)\n",
    "\n",
    "perceptron = MLPClassifier(hidden_layer_sizes = (15,15,15,15,15,15,15,15), max_iter = 500, solver = 'lbfgs')\n",
    "perceptron.fit(X_train, y_train)\n",
    "predict_perceptron = perceptron.predict(X_test)"
   ]
  },
  {
   "cell_type": "markdown",
   "metadata": {},
   "source": [
    "Accuracy of our model"
   ]
  },
  {
   "cell_type": "code",
   "execution_count": 522,
   "metadata": {},
   "outputs": [
    {
     "name": "stdout",
     "output_type": "stream",
     "text": [
      "The accuracy score of the model is:  17.349999999999998 %\n"
     ]
    }
   ],
   "source": [
    "print(\"The accuracy score of the model is: \", perceptron.score(X_test, y_test)*100, \"%\")"
   ]
  },
  {
   "cell_type": "markdown",
   "metadata": {},
   "source": [
    "Classification Report"
   ]
  },
  {
   "cell_type": "code",
   "execution_count": 523,
   "metadata": {},
   "outputs": [
    {
     "name": "stdout",
     "output_type": "stream",
     "text": [
      "The classification report is as follows:-\n",
      "\n",
      "              precision    recall  f1-score   support\n",
      "\n",
      "           0       0.15      0.18      0.17      1117\n",
      "           1       0.19      0.52      0.28      1492\n",
      "           2       0.00      0.00      0.00       457\n",
      "           3       0.16      0.24      0.19      1337\n",
      "           4       0.14      0.05      0.08      1245\n",
      "           5       0.00      0.00      0.00       735\n",
      "           6       0.16      0.02      0.03      1184\n",
      "           7       0.00      0.00      0.00       433\n",
      "\n",
      "    accuracy                           0.17      8000\n",
      "   macro avg       0.10      0.13      0.09      8000\n",
      "weighted avg       0.13      0.17      0.12      8000\n",
      "\n"
     ]
    }
   ],
   "source": [
    "print(\"The classification report is as follows:-\\n\")\n",
    "print(classification_report(y_test, predict_perceptron))"
   ]
  },
  {
   "cell_type": "markdown",
   "metadata": {},
   "source": [
    "Confusion Matrix"
   ]
  },
  {
   "cell_type": "code",
   "execution_count": 524,
   "metadata": {},
   "outputs": [
    {
     "name": "stdout",
     "output_type": "stream",
     "text": [
      "The confusion matrix is as follows:-\n",
      "\n",
      "[[205 560   0 267  69   1  15   0]\n",
      " [232 779   0 377  79   1  24   0]\n",
      " [ 78 256   0  87  25   1  10   0]\n",
      " [217 704   0 318  80   0  18   0]\n",
      " [225 634   0 291  65   6  24   0]\n",
      " [112 370   0 197  44   0  12   0]\n",
      " [183 621   0 298  59   2  21   0]\n",
      " [ 76 205   0 112  31   0   9   0]]\n"
     ]
    }
   ],
   "source": [
    "print(\"The confusion matrix is as follows:-\\n\")\n",
    "print(confusion_matrix(y_test, predict_perceptron))"
   ]
  },
  {
   "cell_type": "markdown",
   "metadata": {},
   "source": [
    "Class-Wise Accuracies"
   ]
  },
  {
   "cell_type": "code",
   "execution_count": 525,
   "metadata": {},
   "outputs": [
    {
     "name": "stdout",
     "output_type": "stream",
     "text": [
      "Analyst :  7.092198581560284 %\n",
      "Development :  56.29709364908504 %\n",
      "Engineer :  0.0 %\n",
      "Admins :  23.04878048780488 %\n",
      "Quality Testing :  4.849279161205767 %\n",
      "Managerial Positions :  0.8714596949891068 %\n",
      "UI/UX Designer :  5.361930294906166 %\n",
      "Architect :  2.097902097902098 %\n"
     ]
    }
   ],
   "source": [
    "class_wise_accuracy = confusion_mat.diagonal()/confusion_mat.sum(axis=1)\n",
    "for i in range(len(job_roles)):\n",
    "    print(job_roles[i], ': ', class_wise_accuracy[i]*100, \"%\")"
   ]
  },
  {
   "cell_type": "markdown",
   "metadata": {},
   "source": [
    "# 4th attempt - Connection to Electives A.S. - Prolog"
   ]
  },
  {
   "cell_type": "markdown",
   "metadata": {},
   "source": [
    "Connecting this data to the electives advisory system, by only training the model with academic percentages in various subjects as the only parameter."
   ]
  },
  {
   "cell_type": "code",
   "execution_count": 526,
   "metadata": {},
   "outputs": [],
   "source": [
    "electives_only = original_df\n",
    "electives_only = electives_only.drop(columns = ['Hours Working Per Day',\n",
    "       'Logical Quotient Rating', 'Hackathons', 'Coding Skills Rating',\n",
    "       'Public Speaking Points', 'Can Work Long Time Before System?',\n",
    "       'Self-Learning Capability?', 'Extra-courses did', 'Certifications',\n",
    "       'Workshops', 'Talent Tests taken?', 'Olympiads',\n",
    "       'Reading and Writing Skills', 'Memory Capability Score',\n",
    "       'Job/Higher Studies?',\n",
    "       'Type of Company Want to Settle In?',\n",
    "       'Taken Inputs from Seniors or Elders',\n",
    "       'Interested Type of Books', 'Salary Range Expected',\n",
    "       'In a Realtionship?', 'Gentle or Tuff behaviour?',\n",
    "       'Management or Technical', 'Salary/Work', 'Hard/Smart worker',\n",
    "       'Worked in Teams Ever?', 'Introvert'])\n"
   ]
  },
  {
   "cell_type": "code",
   "execution_count": 527,
   "metadata": {},
   "outputs": [
    {
     "data": {
      "text/html": [
       "<div>\n",
       "<style scoped>\n",
       "    .dataframe tbody tr th:only-of-type {\n",
       "        vertical-align: middle;\n",
       "    }\n",
       "\n",
       "    .dataframe tbody tr th {\n",
       "        vertical-align: top;\n",
       "    }\n",
       "\n",
       "    .dataframe thead th {\n",
       "        text-align: right;\n",
       "    }\n",
       "</style>\n",
       "<table border=\"1\" class=\"dataframe\">\n",
       "  <thead>\n",
       "    <tr style=\"text-align: right;\">\n",
       "      <th></th>\n",
       "      <th>Academic Percentage in Operating Systems</th>\n",
       "      <th>Percentage in Algorithms</th>\n",
       "      <th>Percentage in Programming Concepts</th>\n",
       "      <th>Percentage in Software Engineering</th>\n",
       "      <th>Percentage in Computer Networks</th>\n",
       "      <th>Percentage in Electronics Subjects</th>\n",
       "      <th>Percentage in Computer Architecture</th>\n",
       "      <th>Percentage in Mathematics</th>\n",
       "      <th>Percentage in Communication skills</th>\n",
       "      <th>Interested Subjects</th>\n",
       "      <th>Interested Career Area</th>\n",
       "      <th>Interested in Games</th>\n",
       "      <th>Suggested Job Role</th>\n",
       "    </tr>\n",
       "  </thead>\n",
       "  <tbody>\n",
       "    <tr>\n",
       "      <th>0</th>\n",
       "      <td>69</td>\n",
       "      <td>63</td>\n",
       "      <td>78</td>\n",
       "      <td>87</td>\n",
       "      <td>94</td>\n",
       "      <td>94</td>\n",
       "      <td>87</td>\n",
       "      <td>84</td>\n",
       "      <td>61</td>\n",
       "      <td>cloud computing</td>\n",
       "      <td>system developer</td>\n",
       "      <td>no</td>\n",
       "      <td>Development</td>\n",
       "    </tr>\n",
       "    <tr>\n",
       "      <th>1</th>\n",
       "      <td>78</td>\n",
       "      <td>62</td>\n",
       "      <td>73</td>\n",
       "      <td>60</td>\n",
       "      <td>71</td>\n",
       "      <td>70</td>\n",
       "      <td>73</td>\n",
       "      <td>84</td>\n",
       "      <td>91</td>\n",
       "      <td>networks</td>\n",
       "      <td>Business process analyst</td>\n",
       "      <td>yes</td>\n",
       "      <td>Admins</td>\n",
       "    </tr>\n",
       "    <tr>\n",
       "      <th>2</th>\n",
       "      <td>71</td>\n",
       "      <td>86</td>\n",
       "      <td>91</td>\n",
       "      <td>87</td>\n",
       "      <td>61</td>\n",
       "      <td>81</td>\n",
       "      <td>72</td>\n",
       "      <td>72</td>\n",
       "      <td>94</td>\n",
       "      <td>hacking</td>\n",
       "      <td>developer</td>\n",
       "      <td>yes</td>\n",
       "      <td>Admins</td>\n",
       "    </tr>\n",
       "    <tr>\n",
       "      <th>3</th>\n",
       "      <td>76</td>\n",
       "      <td>87</td>\n",
       "      <td>60</td>\n",
       "      <td>84</td>\n",
       "      <td>89</td>\n",
       "      <td>73</td>\n",
       "      <td>62</td>\n",
       "      <td>88</td>\n",
       "      <td>69</td>\n",
       "      <td>networks</td>\n",
       "      <td>testing</td>\n",
       "      <td>no</td>\n",
       "      <td>Admins</td>\n",
       "    </tr>\n",
       "    <tr>\n",
       "      <th>4</th>\n",
       "      <td>92</td>\n",
       "      <td>62</td>\n",
       "      <td>90</td>\n",
       "      <td>67</td>\n",
       "      <td>71</td>\n",
       "      <td>89</td>\n",
       "      <td>73</td>\n",
       "      <td>71</td>\n",
       "      <td>73</td>\n",
       "      <td>Computer Architecture</td>\n",
       "      <td>testing</td>\n",
       "      <td>yes</td>\n",
       "      <td>Analyst</td>\n",
       "    </tr>\n",
       "  </tbody>\n",
       "</table>\n",
       "</div>"
      ],
      "text/plain": [
       "   Academic Percentage in Operating Systems  Percentage in Algorithms  \\\n",
       "0                                        69                        63   \n",
       "1                                        78                        62   \n",
       "2                                        71                        86   \n",
       "3                                        76                        87   \n",
       "4                                        92                        62   \n",
       "\n",
       "   Percentage in Programming Concepts  Percentage in Software Engineering  \\\n",
       "0                                  78                                  87   \n",
       "1                                  73                                  60   \n",
       "2                                  91                                  87   \n",
       "3                                  60                                  84   \n",
       "4                                  90                                  67   \n",
       "\n",
       "   Percentage in Computer Networks  Percentage in Electronics Subjects  \\\n",
       "0                               94                                  94   \n",
       "1                               71                                  70   \n",
       "2                               61                                  81   \n",
       "3                               89                                  73   \n",
       "4                               71                                  89   \n",
       "\n",
       "   Percentage in Computer Architecture  Percentage in Mathematics  \\\n",
       "0                                   87                         84   \n",
       "1                                   73                         84   \n",
       "2                                   72                         72   \n",
       "3                                   62                         88   \n",
       "4                                   73                         71   \n",
       "\n",
       "   Percentage in Communication skills    Interested Subjects  \\\n",
       "0                                  61        cloud computing   \n",
       "1                                  91               networks   \n",
       "2                                  94                hacking   \n",
       "3                                  69               networks   \n",
       "4                                  73  Computer Architecture   \n",
       "\n",
       "    Interested Career Area  Interested in Games Suggested Job Role  \n",
       "0          system developer                  no        Development  \n",
       "1  Business process analyst                 yes             Admins  \n",
       "2                 developer                 yes             Admins  \n",
       "3                   testing                  no             Admins  \n",
       "4                   testing                 yes            Analyst  "
      ]
     },
     "execution_count": 527,
     "metadata": {},
     "output_type": "execute_result"
    }
   ],
   "source": [
    "electives_only.head()"
   ]
  },
  {
   "cell_type": "markdown",
   "metadata": {},
   "source": [
    "Building our Neural Network with values changed parameters and keeping the solver as \"lbfgs\" and keeping (train : test) at a (90 : 10) ratio"
   ]
  },
  {
   "cell_type": "code",
   "execution_count": 528,
   "metadata": {},
   "outputs": [],
   "source": [
    "dct = defaultdict(LabelEncoder)\n",
    "electives_only = electives_only.apply(lambda param: dct[param.name].fit_transform(param))\n",
    "\n",
    "X = electives_only.drop('Suggested Job Role', axis = 1)\n",
    "y = electives_only['Suggested Job Role']\n",
    "\n",
    "X_train, X_test, y_train, y_test = train_test_split(X, y, test_size = 0.10, random_state = 42)\n",
    "\n",
    "perceptron = MLPClassifier(hidden_layer_sizes = (15,15,15,15,15,15,15,15), max_iter = 1000, solver = \"lbfgs\", activation = \"relu\")\n",
    "perceptron.fit(X_train, y_train)\n",
    "predict_perceptron = perceptron.predict(X_test)"
   ]
  },
  {
   "cell_type": "markdown",
   "metadata": {},
   "source": [
    "Accuracy Score"
   ]
  },
  {
   "cell_type": "code",
   "execution_count": 529,
   "metadata": {},
   "outputs": [
    {
     "name": "stdout",
     "output_type": "stream",
     "text": [
      "The accuracy score of the model is:  16.35 %\n"
     ]
    }
   ],
   "source": [
    "print(\"The accuracy score of the model is: \", perceptron.score(X_test, y_test)*100, \"%\")"
   ]
  },
  {
   "cell_type": "markdown",
   "metadata": {},
   "source": [
    "Classification Report"
   ]
  },
  {
   "cell_type": "code",
   "execution_count": 530,
   "metadata": {},
   "outputs": [
    {
     "name": "stdout",
     "output_type": "stream",
     "text": [
      "The classification report is as follows:-\n",
      "\n",
      "              precision    recall  f1-score   support\n",
      "\n",
      "           0       0.14      0.22      0.17       288\n",
      "           1       0.18      0.40      0.24       382\n",
      "           2       0.00      0.00      0.00       124\n",
      "           3       0.17      0.27      0.21       345\n",
      "           4       0.14      0.06      0.08       270\n",
      "           5       0.00      0.00      0.00       179\n",
      "           6       0.10      0.01      0.01       307\n",
      "           7       0.00      0.00      0.00       105\n",
      "\n",
      "    accuracy                           0.16      2000\n",
      "   macro avg       0.09      0.12      0.09      2000\n",
      "weighted avg       0.12      0.16      0.12      2000\n",
      "\n"
     ]
    }
   ],
   "source": [
    "print(\"The classification report is as follows:-\\n\")\n",
    "print(classification_report(y_test, predict_perceptron))"
   ]
  },
  {
   "cell_type": "markdown",
   "metadata": {},
   "source": [
    "Confusion Matrix"
   ]
  },
  {
   "cell_type": "code",
   "execution_count": 531,
   "metadata": {},
   "outputs": [
    {
     "name": "stdout",
     "output_type": "stream",
     "text": [
      "The confusion matrix is as follows:-\n",
      "\n",
      "[[ 62 132   0  82  10   1   1   0]\n",
      " [ 97 153   0 101  26   0   5   0]\n",
      " [ 28  49   0  30  13   0   4   0]\n",
      " [ 70 158   0  94  21   0   2   0]\n",
      " [ 63 116   0  70  16   0   5   0]\n",
      " [ 40  81   0  50   7   0   1   0]\n",
      " [ 67 136   0  85  17   0   2   0]\n",
      " [ 22  49   0  29   4   0   1   0]]\n"
     ]
    }
   ],
   "source": [
    "print(\"The confusion matrix is as follows:-\\n\")\n",
    "confusion_mat = confusion_matrix(y_test, predict_perceptron)\n",
    "print(confusion_mat)"
   ]
  },
  {
   "cell_type": "markdown",
   "metadata": {},
   "source": [
    "Class-Wise Accuracies"
   ]
  },
  {
   "cell_type": "code",
   "execution_count": 532,
   "metadata": {},
   "outputs": [
    {
     "name": "stdout",
     "output_type": "stream",
     "text": [
      "Analyst :  21.52777777777778 %\n",
      "Development :  40.05235602094241 %\n",
      "Engineer :  0.0 %\n",
      "Admins :  27.246376811594203 %\n",
      "Quality Testing :  5.9259259259259265 %\n",
      "Managerial Positions :  0.0 %\n",
      "UI/UX Designer :  0.6514657980456027 %\n",
      "Architect :  0.0 %\n"
     ]
    }
   ],
   "source": [
    "class_wise_accuracy = confusion_mat.diagonal()/confusion_mat.sum(axis=1)\n",
    "for i in range(len(job_roles)):\n",
    "    print(job_roles[i], ': ', class_wise_accuracy[i]*100, \"%\")"
   ]
  },
  {
   "cell_type": "markdown",
   "metadata": {},
   "source": [
    "# 5th attempt - Dropping all percentages of subjects"
   ]
  },
  {
   "cell_type": "markdown",
   "metadata": {},
   "source": [
    "Trying to find whether the model trained by dropping all academic percentages would be good enough or not."
   ]
  },
  {
   "cell_type": "code",
   "execution_count": 533,
   "metadata": {},
   "outputs": [],
   "source": [
    "test_df1 = test_df\n",
    "test_df1 = test_df1.drop(columns = ['Academic Percentage in Operating Systems', 'Percentage in Algorithms',\n",
    "       'Percentage in Programming Concepts',\n",
    "       'Percentage in Software Engineering', 'Percentage in Computer Networks',\n",
    "       'Percentage in Electronics Subjects',\n",
    "       'Percentage in Computer Architecture', 'Percentage in Mathematics',\n",
    "       'Percentage in Communication skills'])\n"
   ]
  },
  {
   "cell_type": "code",
   "execution_count": 534,
   "metadata": {},
   "outputs": [
    {
     "data": {
      "text/html": [
       "<div>\n",
       "<style scoped>\n",
       "    .dataframe tbody tr th:only-of-type {\n",
       "        vertical-align: middle;\n",
       "    }\n",
       "\n",
       "    .dataframe tbody tr th {\n",
       "        vertical-align: top;\n",
       "    }\n",
       "\n",
       "    .dataframe thead th {\n",
       "        text-align: right;\n",
       "    }\n",
       "</style>\n",
       "<table border=\"1\" class=\"dataframe\">\n",
       "  <thead>\n",
       "    <tr style=\"text-align: right;\">\n",
       "      <th></th>\n",
       "      <th>Logical Quotient Rating</th>\n",
       "      <th>Coding Skills Rating</th>\n",
       "      <th>Can Work Long Time Before System?</th>\n",
       "      <th>Self-Learning Capability?</th>\n",
       "      <th>Reading and Writing Skills</th>\n",
       "      <th>Memory Capability Score</th>\n",
       "      <th>Interested Subjects</th>\n",
       "      <th>Interested Career Area</th>\n",
       "      <th>Job/Higher Studies?</th>\n",
       "      <th>Type of Company Want to Settle In?</th>\n",
       "      <th>Taken Inputs from Seniors or Elders</th>\n",
       "      <th>Interested in Games</th>\n",
       "      <th>Salary Range Expected</th>\n",
       "      <th>Management or Technical</th>\n",
       "      <th>Salary/Work</th>\n",
       "      <th>Hard/Smart worker</th>\n",
       "      <th>Suggested Job Role</th>\n",
       "    </tr>\n",
       "  </thead>\n",
       "  <tbody>\n",
       "    <tr>\n",
       "      <th>0</th>\n",
       "      <td>3</td>\n",
       "      <td>3</td>\n",
       "      <td>1</td>\n",
       "      <td>1</td>\n",
       "      <td>0</td>\n",
       "      <td>0</td>\n",
       "      <td>4</td>\n",
       "      <td>4</td>\n",
       "      <td>0</td>\n",
       "      <td>8</td>\n",
       "      <td>0</td>\n",
       "      <td>0</td>\n",
       "      <td>1</td>\n",
       "      <td>0</td>\n",
       "      <td>0</td>\n",
       "      <td>0</td>\n",
       "      <td>3</td>\n",
       "    </tr>\n",
       "    <tr>\n",
       "      <th>1</th>\n",
       "      <td>6</td>\n",
       "      <td>1</td>\n",
       "      <td>1</td>\n",
       "      <td>0</td>\n",
       "      <td>2</td>\n",
       "      <td>1</td>\n",
       "      <td>7</td>\n",
       "      <td>0</td>\n",
       "      <td>1</td>\n",
       "      <td>4</td>\n",
       "      <td>1</td>\n",
       "      <td>1</td>\n",
       "      <td>1</td>\n",
       "      <td>1</td>\n",
       "      <td>0</td>\n",
       "      <td>0</td>\n",
       "      <td>0</td>\n",
       "    </tr>\n",
       "    <tr>\n",
       "      <th>2</th>\n",
       "      <td>0</td>\n",
       "      <td>0</td>\n",
       "      <td>1</td>\n",
       "      <td>0</td>\n",
       "      <td>2</td>\n",
       "      <td>0</td>\n",
       "      <td>6</td>\n",
       "      <td>2</td>\n",
       "      <td>0</td>\n",
       "      <td>5</td>\n",
       "      <td>1</td>\n",
       "      <td>1</td>\n",
       "      <td>0</td>\n",
       "      <td>0</td>\n",
       "      <td>1</td>\n",
       "      <td>0</td>\n",
       "      <td>0</td>\n",
       "    </tr>\n",
       "    <tr>\n",
       "      <th>3</th>\n",
       "      <td>0</td>\n",
       "      <td>1</td>\n",
       "      <td>0</td>\n",
       "      <td>1</td>\n",
       "      <td>1</td>\n",
       "      <td>0</td>\n",
       "      <td>7</td>\n",
       "      <td>5</td>\n",
       "      <td>0</td>\n",
       "      <td>7</td>\n",
       "      <td>0</td>\n",
       "      <td>0</td>\n",
       "      <td>0</td>\n",
       "      <td>0</td>\n",
       "      <td>1</td>\n",
       "      <td>1</td>\n",
       "      <td>0</td>\n",
       "    </tr>\n",
       "    <tr>\n",
       "      <th>4</th>\n",
       "      <td>4</td>\n",
       "      <td>5</td>\n",
       "      <td>0</td>\n",
       "      <td>0</td>\n",
       "      <td>2</td>\n",
       "      <td>0</td>\n",
       "      <td>0</td>\n",
       "      <td>5</td>\n",
       "      <td>0</td>\n",
       "      <td>9</td>\n",
       "      <td>0</td>\n",
       "      <td>1</td>\n",
       "      <td>1</td>\n",
       "      <td>0</td>\n",
       "      <td>1</td>\n",
       "      <td>0</td>\n",
       "      <td>1</td>\n",
       "    </tr>\n",
       "  </tbody>\n",
       "</table>\n",
       "</div>"
      ],
      "text/plain": [
       "   Logical Quotient Rating  Coding Skills Rating  \\\n",
       "0                        3                     3   \n",
       "1                        6                     1   \n",
       "2                        0                     0   \n",
       "3                        0                     1   \n",
       "4                        4                     5   \n",
       "\n",
       "   Can Work Long Time Before System?  Self-Learning Capability?  \\\n",
       "0                                  1                          1   \n",
       "1                                  1                          0   \n",
       "2                                  1                          0   \n",
       "3                                  0                          1   \n",
       "4                                  0                          0   \n",
       "\n",
       "   Reading and Writing Skills  Memory Capability Score  Interested Subjects  \\\n",
       "0                           0                        0                    4   \n",
       "1                           2                        1                    7   \n",
       "2                           2                        0                    6   \n",
       "3                           1                        0                    7   \n",
       "4                           2                        0                    0   \n",
       "\n",
       "   Interested Career Area   Job/Higher Studies?  \\\n",
       "0                        4                    0   \n",
       "1                        0                    1   \n",
       "2                        2                    0   \n",
       "3                        5                    0   \n",
       "4                        5                    0   \n",
       "\n",
       "   Type of Company Want to Settle In?  Taken Inputs from Seniors or Elders  \\\n",
       "0                                   8                                    0   \n",
       "1                                   4                                    1   \n",
       "2                                   5                                    1   \n",
       "3                                   7                                    0   \n",
       "4                                   9                                    0   \n",
       "\n",
       "   Interested in Games  Salary Range Expected  Management or Technical  \\\n",
       "0                    0                      1                        0   \n",
       "1                    1                      1                        1   \n",
       "2                    1                      0                        0   \n",
       "3                    0                      0                        0   \n",
       "4                    1                      1                        0   \n",
       "\n",
       "   Salary/Work  Hard/Smart worker  Suggested Job Role  \n",
       "0            0                  0                   3  \n",
       "1            0                  0                   0  \n",
       "2            1                  0                   0  \n",
       "3            1                  1                   0  \n",
       "4            1                  0                   1  "
      ]
     },
     "execution_count": 534,
     "metadata": {},
     "output_type": "execute_result"
    }
   ],
   "source": [
    "test_df1.head()"
   ]
  },
  {
   "cell_type": "markdown",
   "metadata": {},
   "source": [
    "Building our Neural Network with values changed parameters and keeping the solver as \"lbfgs\" and activation = \"relu and keeping (train : test) at a (50 : 50) ratio"
   ]
  },
  {
   "cell_type": "code",
   "execution_count": 535,
   "metadata": {},
   "outputs": [],
   "source": [
    "dct = defaultdict(LabelEncoder)\n",
    "test_df1 = test_df1.apply(lambda param: dct[param.name].fit_transform(param))\n",
    "\n",
    "X = test_df1.drop('Suggested Job Role', axis = 1)\n",
    "y = test_df1['Suggested Job Role']\n",
    "\n",
    "X_train, X_test, y_train, y_test = train_test_split(X, y, test_size = 0.50, random_state = 42)\n",
    "\n",
    "perceptron = MLPClassifier(hidden_layer_sizes = (20,20,20,20,20), max_iter = 1000, solver = \"lbfgs\", activation = \"relu\")\n",
    "perceptron.fit(X_train, y_train)\n",
    "predict_perceptron = perceptron.predict(X_test)"
   ]
  },
  {
   "cell_type": "markdown",
   "metadata": {},
   "source": [
    "Accuracy Score - Turns out, model accuracy is coming out to be great. Accuracy is not bad."
   ]
  },
  {
   "cell_type": "code",
   "execution_count": 536,
   "metadata": {},
   "outputs": [
    {
     "name": "stdout",
     "output_type": "stream",
     "text": [
      "The accuracy score of the model is:  16.68 %\n"
     ]
    }
   ],
   "source": [
    "print(\"The accuracy score of the model is: \", perceptron.score(X_test, y_test)*100, \"%\")"
   ]
  },
  {
   "cell_type": "markdown",
   "metadata": {},
   "source": [
    "Classification Report"
   ]
  },
  {
   "cell_type": "code",
   "execution_count": 537,
   "metadata": {},
   "outputs": [
    {
     "name": "stdout",
     "output_type": "stream",
     "text": [
      "The classification report is as follows:-\n",
      "\n",
      "              precision    recall  f1-score   support\n",
      "\n",
      "           0       0.14      0.15      0.15      1434\n",
      "           1       0.19      0.37      0.25      1895\n",
      "           2       0.00      0.00      0.00       566\n",
      "           3       0.16      0.24      0.19      1647\n",
      "           4       0.16      0.10      0.12      1545\n",
      "           5       0.11      0.03      0.05       904\n",
      "           6       0.15      0.12      0.14      1449\n",
      "           7       0.00      0.00      0.00       560\n",
      "\n",
      "    accuracy                           0.17     10000\n",
      "   macro avg       0.12      0.13      0.11     10000\n",
      "weighted avg       0.14      0.17      0.14     10000\n",
      "\n"
     ]
    }
   ],
   "source": [
    "print(\"The classification report is as follows:-\\n\")\n",
    "print(classification_report(y_test, predict_perceptron))"
   ]
  },
  {
   "cell_type": "markdown",
   "metadata": {},
   "source": [
    "Confusion Matrix"
   ]
  },
  {
   "cell_type": "code",
   "execution_count": 538,
   "metadata": {},
   "outputs": [
    {
     "name": "stdout",
     "output_type": "stream",
     "text": [
      "The confusion matrix is as follows:-\n",
      "\n",
      "[[214 513   1 375 129  36 164   2]\n",
      " [300 705   2 463 171  27 216  11]\n",
      " [ 96 221   0 123  39  12  72   3]\n",
      " [226 613   2 392 164  46 197   7]\n",
      " [207 583   1 387 155  35 172   5]\n",
      " [142 343   0 203  97  26  91   2]\n",
      " [216 530   1 344 142  37 176   3]\n",
      " [102 203   1 139  49   9  57   0]]\n"
     ]
    }
   ],
   "source": [
    "print(\"The confusion matrix is as follows:-\\n\")\n",
    "confusion_mat = confusion_matrix(y_test, predict_perceptron)\n",
    "print(confusion_mat)"
   ]
  },
  {
   "cell_type": "markdown",
   "metadata": {},
   "source": [
    "Class-Wise Accuracies"
   ]
  },
  {
   "cell_type": "code",
   "execution_count": 539,
   "metadata": {},
   "outputs": [
    {
     "name": "stdout",
     "output_type": "stream",
     "text": [
      "Analyst :  14.923291492329149 %\n",
      "Development :  37.203166226912934 %\n",
      "Engineer :  0.0 %\n",
      "Admins :  23.800850030358227 %\n",
      "Quality Testing :  10.032362459546926 %\n",
      "Managerial Positions :  2.8761061946902653 %\n",
      "UI/UX Designer :  12.146307798481711 %\n",
      "Architect :  0.0 %\n"
     ]
    }
   ],
   "source": [
    "class_wise_accuracy = confusion_mat.diagonal()/confusion_mat.sum(axis=1)\n",
    "for i in range(len(job_roles)):\n",
    "    print(job_roles[i], ': ', class_wise_accuracy[i]*100, \"%\")"
   ]
  },
  {
   "cell_type": "markdown",
   "metadata": {},
   "source": [
    "# 6th attempt - Normalizing percentages to slabs: Good, Average, Bad"
   ]
  },
  {
   "cell_type": "markdown",
   "metadata": {},
   "source": [
    "Normalizing Operating Systems Percentages"
   ]
  },
  {
   "cell_type": "code",
   "execution_count": 540,
   "metadata": {},
   "outputs": [],
   "source": [
    "normalize = test_df\n",
    "\n",
    "for i in range (len(normalize)):\n",
    "    if(normalize['Academic Percentage in Operating Systems'][i] >= 70):\n",
    "        normalize['Academic Percentage in Operating Systems'][i] = 3\n",
    "    elif (normalize['Academic Percentage in Operating Systems'][i] >= 40):\n",
    "        normalize['Academic Percentage in Operating Systems'][i] = 2\n",
    "    else:\n",
    "        normalize['Academic Percentage in Operating Systems'][i] = 1\n"
   ]
  },
  {
   "cell_type": "markdown",
   "metadata": {},
   "source": [
    "Normalizing Algorithms Percentages"
   ]
  },
  {
   "cell_type": "code",
   "execution_count": 541,
   "metadata": {},
   "outputs": [],
   "source": [
    "for i in range (len(normalize)):\n",
    "    if(normalize['Percentage in Algorithms'][i] >= 70):\n",
    "        normalize['Percentage in Algorithms'][i] = 3\n",
    "    elif (normalize['Percentage in Algorithms'][i] >= 40):\n",
    "        normalize['Percentage in Algorithms'][i] = 2\n",
    "    else:\n",
    "        normalize['Percentage in Algorithms'][i] = 1"
   ]
  },
  {
   "cell_type": "markdown",
   "metadata": {},
   "source": [
    "Normalizing Programming Concepts Percentages"
   ]
  },
  {
   "cell_type": "code",
   "execution_count": 542,
   "metadata": {},
   "outputs": [],
   "source": [
    "for i in range (len(normalize)):\n",
    "    if(normalize['Percentage in Programming Concepts'][i] >= 70):\n",
    "        normalize['Percentage in Programming Concepts'][i] = 3\n",
    "    elif (normalize['Percentage in Programming Concepts'][i] >= 40):\n",
    "        normalize['Percentage in Programming Concepts'][i] = 2\n",
    "    else:\n",
    "        normalize['Percentage in Programming Concepts'][i] = 1"
   ]
  },
  {
   "cell_type": "markdown",
   "metadata": {},
   "source": [
    "Normalizing Software Engineering Percentages"
   ]
  },
  {
   "cell_type": "code",
   "execution_count": 543,
   "metadata": {},
   "outputs": [],
   "source": [
    "for i in range (len(normalize)):\n",
    "    if(normalize['Percentage in Software Engineering'][i] >= 70):\n",
    "        normalize['Percentage in Software Engineering'][i] = 3\n",
    "    elif (normalize['Percentage in Software Engineering'][i] >= 40):\n",
    "        normalize['Percentage in Software Engineering'][i] = 2\n",
    "    else:\n",
    "        normalize['Percentage in Software Engineering'][i] = 1"
   ]
  },
  {
   "cell_type": "markdown",
   "metadata": {},
   "source": [
    "Normalizing Computer Networks Percentages"
   ]
  },
  {
   "cell_type": "code",
   "execution_count": 544,
   "metadata": {},
   "outputs": [],
   "source": [
    "for i in range (len(normalize)):\n",
    "    if(normalize['Percentage in Computer Networks'][i] >= 70):\n",
    "        normalize['Percentage in Computer Networks'][i] = 3\n",
    "    elif (normalize['Percentage in Computer Networks'][i] >= 40):\n",
    "        normalize['Percentage in Computer Networks'][i] = 2\n",
    "    else:\n",
    "        normalize['Percentage in Computer Networks'][i] = 1"
   ]
  },
  {
   "cell_type": "markdown",
   "metadata": {},
   "source": [
    "Normalizing Electronics Subjects Percentages"
   ]
  },
  {
   "cell_type": "code",
   "execution_count": 545,
   "metadata": {},
   "outputs": [],
   "source": [
    "for i in range (len(normalize)):\n",
    "    if(normalize['Percentage in Electronics Subjects'][i] >= 70):\n",
    "        normalize['Percentage in Electronics Subjects'][i] = 3\n",
    "    elif (normalize['Percentage in Electronics Subjects'][i] >= 40):\n",
    "        normalize['Percentage in Electronics Subjects'][i] = 2\n",
    "    else:\n",
    "        normalize['Percentage in Electronics Subjects'][i] = 1"
   ]
  },
  {
   "cell_type": "markdown",
   "metadata": {},
   "source": [
    "Normalizing Computer Architecture Percentages"
   ]
  },
  {
   "cell_type": "code",
   "execution_count": 546,
   "metadata": {},
   "outputs": [],
   "source": [
    "for i in range (len(normalize)):\n",
    "    if(normalize['Percentage in Computer Architecture'][i] >= 70):\n",
    "        normalize['Percentage in Computer Architecture'][i] = 3\n",
    "    elif (normalize['Percentage in Computer Architecture'][i] >= 40):\n",
    "        normalize['Percentage in Computer Architecture'][i] = 2\n",
    "    else:\n",
    "        normalize['Percentage in Computer Architecture'][i] = 1"
   ]
  },
  {
   "cell_type": "markdown",
   "metadata": {},
   "source": [
    "Normalizing Mathematics Percentages"
   ]
  },
  {
   "cell_type": "code",
   "execution_count": 547,
   "metadata": {},
   "outputs": [],
   "source": [
    "for i in range (len(normalize)):\n",
    "    if(normalize['Percentage in Mathematics'][i] >= 70):\n",
    "        normalize['Percentage in Mathematics'][i] = 3\n",
    "    elif (normalize['Percentage in Mathematics'][i] >= 40):\n",
    "        normalize['Percentage in Mathematics'][i] = 2\n",
    "    else:\n",
    "        normalize['Percentage in Mathematics'][i] = 1"
   ]
  },
  {
   "cell_type": "markdown",
   "metadata": {},
   "source": [
    "Normalizing Communication skills Percentages"
   ]
  },
  {
   "cell_type": "code",
   "execution_count": 548,
   "metadata": {},
   "outputs": [],
   "source": [
    "for i in range (len(normalize)):\n",
    "    if(normalize['Percentage in Communication skills'][i] >= 70):\n",
    "        normalize['Percentage in Communication skills'][i] = 3\n",
    "    elif (normalize['Percentage in Communication skills'][i] >= 40):\n",
    "        normalize['Percentage in Communication skills'][i] = 2\n",
    "    else:\n",
    "        normalize['Percentage in Communication skills'][i] = 1"
   ]
  },
  {
   "cell_type": "code",
   "execution_count": 549,
   "metadata": {},
   "outputs": [
    {
     "data": {
      "text/html": [
       "<div>\n",
       "<style scoped>\n",
       "    .dataframe tbody tr th:only-of-type {\n",
       "        vertical-align: middle;\n",
       "    }\n",
       "\n",
       "    .dataframe tbody tr th {\n",
       "        vertical-align: top;\n",
       "    }\n",
       "\n",
       "    .dataframe thead th {\n",
       "        text-align: right;\n",
       "    }\n",
       "</style>\n",
       "<table border=\"1\" class=\"dataframe\">\n",
       "  <thead>\n",
       "    <tr style=\"text-align: right;\">\n",
       "      <th></th>\n",
       "      <th>Academic Percentage in Operating Systems</th>\n",
       "      <th>Percentage in Algorithms</th>\n",
       "      <th>Percentage in Programming Concepts</th>\n",
       "      <th>Percentage in Software Engineering</th>\n",
       "      <th>Percentage in Computer Networks</th>\n",
       "      <th>Percentage in Electronics Subjects</th>\n",
       "      <th>Percentage in Computer Architecture</th>\n",
       "      <th>Percentage in Mathematics</th>\n",
       "      <th>Percentage in Communication skills</th>\n",
       "      <th>Logical Quotient Rating</th>\n",
       "      <th>...</th>\n",
       "      <th>Interested Career Area</th>\n",
       "      <th>Job/Higher Studies?</th>\n",
       "      <th>Type of Company Want to Settle In?</th>\n",
       "      <th>Taken Inputs from Seniors or Elders</th>\n",
       "      <th>Interested in Games</th>\n",
       "      <th>Salary Range Expected</th>\n",
       "      <th>Management or Technical</th>\n",
       "      <th>Salary/Work</th>\n",
       "      <th>Hard/Smart worker</th>\n",
       "      <th>Suggested Job Role</th>\n",
       "    </tr>\n",
       "  </thead>\n",
       "  <tbody>\n",
       "    <tr>\n",
       "      <th>0</th>\n",
       "      <td>1</td>\n",
       "      <td>1</td>\n",
       "      <td>1</td>\n",
       "      <td>1</td>\n",
       "      <td>1</td>\n",
       "      <td>1</td>\n",
       "      <td>1</td>\n",
       "      <td>1</td>\n",
       "      <td>1</td>\n",
       "      <td>3</td>\n",
       "      <td>...</td>\n",
       "      <td>4</td>\n",
       "      <td>0</td>\n",
       "      <td>8</td>\n",
       "      <td>0</td>\n",
       "      <td>0</td>\n",
       "      <td>1</td>\n",
       "      <td>0</td>\n",
       "      <td>0</td>\n",
       "      <td>0</td>\n",
       "      <td>3</td>\n",
       "    </tr>\n",
       "    <tr>\n",
       "      <th>1</th>\n",
       "      <td>1</td>\n",
       "      <td>1</td>\n",
       "      <td>1</td>\n",
       "      <td>1</td>\n",
       "      <td>1</td>\n",
       "      <td>1</td>\n",
       "      <td>1</td>\n",
       "      <td>1</td>\n",
       "      <td>1</td>\n",
       "      <td>6</td>\n",
       "      <td>...</td>\n",
       "      <td>0</td>\n",
       "      <td>1</td>\n",
       "      <td>4</td>\n",
       "      <td>1</td>\n",
       "      <td>1</td>\n",
       "      <td>1</td>\n",
       "      <td>1</td>\n",
       "      <td>0</td>\n",
       "      <td>0</td>\n",
       "      <td>0</td>\n",
       "    </tr>\n",
       "    <tr>\n",
       "      <th>2</th>\n",
       "      <td>1</td>\n",
       "      <td>1</td>\n",
       "      <td>1</td>\n",
       "      <td>1</td>\n",
       "      <td>1</td>\n",
       "      <td>1</td>\n",
       "      <td>1</td>\n",
       "      <td>1</td>\n",
       "      <td>1</td>\n",
       "      <td>0</td>\n",
       "      <td>...</td>\n",
       "      <td>2</td>\n",
       "      <td>0</td>\n",
       "      <td>5</td>\n",
       "      <td>1</td>\n",
       "      <td>1</td>\n",
       "      <td>0</td>\n",
       "      <td>0</td>\n",
       "      <td>1</td>\n",
       "      <td>0</td>\n",
       "      <td>0</td>\n",
       "    </tr>\n",
       "    <tr>\n",
       "      <th>3</th>\n",
       "      <td>1</td>\n",
       "      <td>1</td>\n",
       "      <td>1</td>\n",
       "      <td>1</td>\n",
       "      <td>1</td>\n",
       "      <td>1</td>\n",
       "      <td>1</td>\n",
       "      <td>1</td>\n",
       "      <td>1</td>\n",
       "      <td>0</td>\n",
       "      <td>...</td>\n",
       "      <td>5</td>\n",
       "      <td>0</td>\n",
       "      <td>7</td>\n",
       "      <td>0</td>\n",
       "      <td>0</td>\n",
       "      <td>0</td>\n",
       "      <td>0</td>\n",
       "      <td>1</td>\n",
       "      <td>1</td>\n",
       "      <td>0</td>\n",
       "    </tr>\n",
       "    <tr>\n",
       "      <th>4</th>\n",
       "      <td>1</td>\n",
       "      <td>1</td>\n",
       "      <td>1</td>\n",
       "      <td>1</td>\n",
       "      <td>1</td>\n",
       "      <td>1</td>\n",
       "      <td>1</td>\n",
       "      <td>1</td>\n",
       "      <td>1</td>\n",
       "      <td>4</td>\n",
       "      <td>...</td>\n",
       "      <td>5</td>\n",
       "      <td>0</td>\n",
       "      <td>9</td>\n",
       "      <td>0</td>\n",
       "      <td>1</td>\n",
       "      <td>1</td>\n",
       "      <td>0</td>\n",
       "      <td>1</td>\n",
       "      <td>0</td>\n",
       "      <td>1</td>\n",
       "    </tr>\n",
       "  </tbody>\n",
       "</table>\n",
       "<p>5 rows × 26 columns</p>\n",
       "</div>"
      ],
      "text/plain": [
       "   Academic Percentage in Operating Systems  Percentage in Algorithms  \\\n",
       "0                                         1                         1   \n",
       "1                                         1                         1   \n",
       "2                                         1                         1   \n",
       "3                                         1                         1   \n",
       "4                                         1                         1   \n",
       "\n",
       "   Percentage in Programming Concepts  Percentage in Software Engineering  \\\n",
       "0                                   1                                   1   \n",
       "1                                   1                                   1   \n",
       "2                                   1                                   1   \n",
       "3                                   1                                   1   \n",
       "4                                   1                                   1   \n",
       "\n",
       "   Percentage in Computer Networks  Percentage in Electronics Subjects  \\\n",
       "0                                1                                   1   \n",
       "1                                1                                   1   \n",
       "2                                1                                   1   \n",
       "3                                1                                   1   \n",
       "4                                1                                   1   \n",
       "\n",
       "   Percentage in Computer Architecture  Percentage in Mathematics  \\\n",
       "0                                    1                          1   \n",
       "1                                    1                          1   \n",
       "2                                    1                          1   \n",
       "3                                    1                          1   \n",
       "4                                    1                          1   \n",
       "\n",
       "   Percentage in Communication skills  Logical Quotient Rating  ...  \\\n",
       "0                                   1                        3  ...   \n",
       "1                                   1                        6  ...   \n",
       "2                                   1                        0  ...   \n",
       "3                                   1                        0  ...   \n",
       "4                                   1                        4  ...   \n",
       "\n",
       "   Interested Career Area   Job/Higher Studies?  \\\n",
       "0                        4                    0   \n",
       "1                        0                    1   \n",
       "2                        2                    0   \n",
       "3                        5                    0   \n",
       "4                        5                    0   \n",
       "\n",
       "   Type of Company Want to Settle In?  Taken Inputs from Seniors or Elders  \\\n",
       "0                                   8                                    0   \n",
       "1                                   4                                    1   \n",
       "2                                   5                                    1   \n",
       "3                                   7                                    0   \n",
       "4                                   9                                    0   \n",
       "\n",
       "   Interested in Games  Salary Range Expected  Management or Technical  \\\n",
       "0                    0                      1                        0   \n",
       "1                    1                      1                        1   \n",
       "2                    1                      0                        0   \n",
       "3                    0                      0                        0   \n",
       "4                    1                      1                        0   \n",
       "\n",
       "   Salary/Work  Hard/Smart worker  Suggested Job Role  \n",
       "0            0                  0                   3  \n",
       "1            0                  0                   0  \n",
       "2            1                  0                   0  \n",
       "3            1                  1                   0  \n",
       "4            1                  0                   1  \n",
       "\n",
       "[5 rows x 26 columns]"
      ]
     },
     "execution_count": 549,
     "metadata": {},
     "output_type": "execute_result"
    }
   ],
   "source": [
    "normalize.head()"
   ]
  },
  {
   "cell_type": "markdown",
   "metadata": {},
   "source": [
    "Building our Neural Network with values changed parameters and keeping the solver as \"lbfgs\" and activation = \"relu and keeping (train : test) at a (80 : 20) ratio"
   ]
  },
  {
   "cell_type": "code",
   "execution_count": 550,
   "metadata": {},
   "outputs": [],
   "source": [
    "dct = defaultdict(LabelEncoder)\n",
    "normalize = normalize.apply(lambda param: dct[param.name].fit_transform(param))\n",
    "\n",
    "X = normalize.drop('Suggested Job Role', axis = 1)\n",
    "y = normalize['Suggested Job Role']\n",
    "\n",
    "X_train, X_test, y_train, y_test = train_test_split(X, y, test_size = 0.20, random_state = 42)\n",
    "\n",
    "perceptron = MLPClassifier(hidden_layer_sizes = (15,15,15,15,15,15,15,15), max_iter = 1000, solver = \"lbfgs\", activation = \"relu\")\n",
    "perceptron.fit(X_train, y_train)\n",
    "predict_perceptron = perceptron.predict(X_test)"
   ]
  },
  {
   "cell_type": "markdown",
   "metadata": {},
   "source": [
    "Accuracy Score"
   ]
  },
  {
   "cell_type": "code",
   "execution_count": 551,
   "metadata": {},
   "outputs": [
    {
     "name": "stdout",
     "output_type": "stream",
     "text": [
      "The accuracy score of the model is:  17.775 %\n"
     ]
    }
   ],
   "source": [
    "print(\"The accuracy score of the model is: \", perceptron.score(X_test, y_test)*100, \"%\")"
   ]
  },
  {
   "cell_type": "markdown",
   "metadata": {},
   "source": [
    "Classification Report"
   ]
  },
  {
   "cell_type": "code",
   "execution_count": 552,
   "metadata": {},
   "outputs": [
    {
     "name": "stdout",
     "output_type": "stream",
     "text": [
      "The classification report is as follows:-\n",
      "\n",
      "              precision    recall  f1-score   support\n",
      "\n",
      "           0       0.00      0.00      0.00       564\n",
      "           1       0.19      0.53      0.28       745\n",
      "           2       0.00      0.00      0.00       241\n",
      "           3       0.17      0.29      0.21       661\n",
      "           4       0.16      0.21      0.18       603\n",
      "           5       0.00      0.00      0.00       362\n",
      "           6       0.08      0.00      0.00       605\n",
      "           7       0.00      0.00      0.00       219\n",
      "\n",
      "    accuracy                           0.18      4000\n",
      "   macro avg       0.07      0.13      0.08      4000\n",
      "weighted avg       0.10      0.18      0.12      4000\n",
      "\n"
     ]
    }
   ],
   "source": [
    "print(\"The classification report is as follows:-\\n\")\n",
    "print(classification_report(y_test, predict_perceptron))"
   ]
  },
  {
   "cell_type": "markdown",
   "metadata": {},
   "source": [
    "Confusion Matrix"
   ]
  },
  {
   "cell_type": "code",
   "execution_count": 553,
   "metadata": {},
   "outputs": [
    {
     "name": "stdout",
     "output_type": "stream",
     "text": [
      "The confusion matrix is as follows:-\n",
      "\n",
      "[[  0 302   0 167  93   0   2   0]\n",
      " [  0 394   0 208 140   0   3   0]\n",
      " [  0 129   0  62  49   0   1   0]\n",
      " [  0 340   0 190 128   0   3   0]\n",
      " [  0 308   0 167 126   0   2   0]\n",
      " [  0 185   0 100  76   0   1   0]\n",
      " [  0 318   0 167 119   0   1   0]\n",
      " [  0 104   0  71  44   0   0   0]]\n"
     ]
    }
   ],
   "source": [
    "print(\"The confusion matrix is as follows:-\\n\")\n",
    "confusion_mat = confusion_matrix(y_test, predict_perceptron)\n",
    "print(confusion_mat)"
   ]
  },
  {
   "cell_type": "markdown",
   "metadata": {},
   "source": [
    "Class-Wise Accuracies"
   ]
  },
  {
   "cell_type": "code",
   "execution_count": 554,
   "metadata": {},
   "outputs": [
    {
     "name": "stdout",
     "output_type": "stream",
     "text": [
      "Analyst :  0.0 %\n",
      "Development :  52.88590604026846 %\n",
      "Engineer :  0.0 %\n",
      "Admins :  28.74432677760968 %\n",
      "Quality Testing :  20.8955223880597 %\n",
      "Managerial Positions :  0.0 %\n",
      "UI/UX Designer :  0.1652892561983471 %\n",
      "Architect :  0.0 %\n"
     ]
    }
   ],
   "source": [
    "class_wise_accuracy = confusion_mat.diagonal()/confusion_mat.sum(axis=1)\n",
    "for i in range(len(job_roles)):\n",
    "    print(job_roles[i], ': ', class_wise_accuracy[i]*100, \"%\")"
   ]
  },
  {
   "cell_type": "markdown",
   "metadata": {},
   "source": [
    "# 7th attempt - Dropping more redundant columns"
   ]
  },
  {
   "cell_type": "markdown",
   "metadata": {},
   "source": [
    "Dropping more columns to try and improve efficiency"
   ]
  },
  {
   "cell_type": "code",
   "execution_count": 555,
   "metadata": {},
   "outputs": [],
   "source": [
    "final_test = normalize\n",
    "final_test = final_test.drop(columns = ['Coding Skills Rating','Reading and Writing Skills','Interested Subjects','Job/Higher Studies?','Taken Inputs from Seniors or Elders', 'Interested in Games','Salary Range Expected', 'Salary/Work',])\n"
   ]
  },
  {
   "cell_type": "code",
   "execution_count": 556,
   "metadata": {},
   "outputs": [
    {
     "data": {
      "text/html": [
       "<div>\n",
       "<style scoped>\n",
       "    .dataframe tbody tr th:only-of-type {\n",
       "        vertical-align: middle;\n",
       "    }\n",
       "\n",
       "    .dataframe tbody tr th {\n",
       "        vertical-align: top;\n",
       "    }\n",
       "\n",
       "    .dataframe thead th {\n",
       "        text-align: right;\n",
       "    }\n",
       "</style>\n",
       "<table border=\"1\" class=\"dataframe\">\n",
       "  <thead>\n",
       "    <tr style=\"text-align: right;\">\n",
       "      <th></th>\n",
       "      <th>Academic Percentage in Operating Systems</th>\n",
       "      <th>Percentage in Algorithms</th>\n",
       "      <th>Percentage in Programming Concepts</th>\n",
       "      <th>Percentage in Software Engineering</th>\n",
       "      <th>Percentage in Computer Networks</th>\n",
       "      <th>Percentage in Electronics Subjects</th>\n",
       "      <th>Percentage in Computer Architecture</th>\n",
       "      <th>Percentage in Mathematics</th>\n",
       "      <th>Percentage in Communication skills</th>\n",
       "      <th>Logical Quotient Rating</th>\n",
       "      <th>Can Work Long Time Before System?</th>\n",
       "      <th>Self-Learning Capability?</th>\n",
       "      <th>Memory Capability Score</th>\n",
       "      <th>Interested Career Area</th>\n",
       "      <th>Type of Company Want to Settle In?</th>\n",
       "      <th>Management or Technical</th>\n",
       "      <th>Hard/Smart worker</th>\n",
       "      <th>Suggested Job Role</th>\n",
       "    </tr>\n",
       "  </thead>\n",
       "  <tbody>\n",
       "    <tr>\n",
       "      <th>0</th>\n",
       "      <td>0</td>\n",
       "      <td>0</td>\n",
       "      <td>0</td>\n",
       "      <td>0</td>\n",
       "      <td>0</td>\n",
       "      <td>0</td>\n",
       "      <td>0</td>\n",
       "      <td>0</td>\n",
       "      <td>0</td>\n",
       "      <td>3</td>\n",
       "      <td>1</td>\n",
       "      <td>1</td>\n",
       "      <td>0</td>\n",
       "      <td>4</td>\n",
       "      <td>8</td>\n",
       "      <td>0</td>\n",
       "      <td>0</td>\n",
       "      <td>3</td>\n",
       "    </tr>\n",
       "    <tr>\n",
       "      <th>1</th>\n",
       "      <td>0</td>\n",
       "      <td>0</td>\n",
       "      <td>0</td>\n",
       "      <td>0</td>\n",
       "      <td>0</td>\n",
       "      <td>0</td>\n",
       "      <td>0</td>\n",
       "      <td>0</td>\n",
       "      <td>0</td>\n",
       "      <td>6</td>\n",
       "      <td>1</td>\n",
       "      <td>0</td>\n",
       "      <td>1</td>\n",
       "      <td>0</td>\n",
       "      <td>4</td>\n",
       "      <td>1</td>\n",
       "      <td>0</td>\n",
       "      <td>0</td>\n",
       "    </tr>\n",
       "    <tr>\n",
       "      <th>2</th>\n",
       "      <td>0</td>\n",
       "      <td>0</td>\n",
       "      <td>0</td>\n",
       "      <td>0</td>\n",
       "      <td>0</td>\n",
       "      <td>0</td>\n",
       "      <td>0</td>\n",
       "      <td>0</td>\n",
       "      <td>0</td>\n",
       "      <td>0</td>\n",
       "      <td>1</td>\n",
       "      <td>0</td>\n",
       "      <td>0</td>\n",
       "      <td>2</td>\n",
       "      <td>5</td>\n",
       "      <td>0</td>\n",
       "      <td>0</td>\n",
       "      <td>0</td>\n",
       "    </tr>\n",
       "    <tr>\n",
       "      <th>3</th>\n",
       "      <td>0</td>\n",
       "      <td>0</td>\n",
       "      <td>0</td>\n",
       "      <td>0</td>\n",
       "      <td>0</td>\n",
       "      <td>0</td>\n",
       "      <td>0</td>\n",
       "      <td>0</td>\n",
       "      <td>0</td>\n",
       "      <td>0</td>\n",
       "      <td>0</td>\n",
       "      <td>1</td>\n",
       "      <td>0</td>\n",
       "      <td>5</td>\n",
       "      <td>7</td>\n",
       "      <td>0</td>\n",
       "      <td>1</td>\n",
       "      <td>0</td>\n",
       "    </tr>\n",
       "    <tr>\n",
       "      <th>4</th>\n",
       "      <td>0</td>\n",
       "      <td>0</td>\n",
       "      <td>0</td>\n",
       "      <td>0</td>\n",
       "      <td>0</td>\n",
       "      <td>0</td>\n",
       "      <td>0</td>\n",
       "      <td>0</td>\n",
       "      <td>0</td>\n",
       "      <td>4</td>\n",
       "      <td>0</td>\n",
       "      <td>0</td>\n",
       "      <td>0</td>\n",
       "      <td>5</td>\n",
       "      <td>9</td>\n",
       "      <td>0</td>\n",
       "      <td>0</td>\n",
       "      <td>1</td>\n",
       "    </tr>\n",
       "  </tbody>\n",
       "</table>\n",
       "</div>"
      ],
      "text/plain": [
       "   Academic Percentage in Operating Systems  Percentage in Algorithms  \\\n",
       "0                                         0                         0   \n",
       "1                                         0                         0   \n",
       "2                                         0                         0   \n",
       "3                                         0                         0   \n",
       "4                                         0                         0   \n",
       "\n",
       "   Percentage in Programming Concepts  Percentage in Software Engineering  \\\n",
       "0                                   0                                   0   \n",
       "1                                   0                                   0   \n",
       "2                                   0                                   0   \n",
       "3                                   0                                   0   \n",
       "4                                   0                                   0   \n",
       "\n",
       "   Percentage in Computer Networks  Percentage in Electronics Subjects  \\\n",
       "0                                0                                   0   \n",
       "1                                0                                   0   \n",
       "2                                0                                   0   \n",
       "3                                0                                   0   \n",
       "4                                0                                   0   \n",
       "\n",
       "   Percentage in Computer Architecture  Percentage in Mathematics  \\\n",
       "0                                    0                          0   \n",
       "1                                    0                          0   \n",
       "2                                    0                          0   \n",
       "3                                    0                          0   \n",
       "4                                    0                          0   \n",
       "\n",
       "   Percentage in Communication skills  Logical Quotient Rating  \\\n",
       "0                                   0                        3   \n",
       "1                                   0                        6   \n",
       "2                                   0                        0   \n",
       "3                                   0                        0   \n",
       "4                                   0                        4   \n",
       "\n",
       "   Can Work Long Time Before System?  Self-Learning Capability?  \\\n",
       "0                                  1                          1   \n",
       "1                                  1                          0   \n",
       "2                                  1                          0   \n",
       "3                                  0                          1   \n",
       "4                                  0                          0   \n",
       "\n",
       "   Memory Capability Score  Interested Career Area   \\\n",
       "0                        0                        4   \n",
       "1                        1                        0   \n",
       "2                        0                        2   \n",
       "3                        0                        5   \n",
       "4                        0                        5   \n",
       "\n",
       "   Type of Company Want to Settle In?  Management or Technical  \\\n",
       "0                                   8                        0   \n",
       "1                                   4                        1   \n",
       "2                                   5                        0   \n",
       "3                                   7                        0   \n",
       "4                                   9                        0   \n",
       "\n",
       "   Hard/Smart worker  Suggested Job Role  \n",
       "0                  0                   3  \n",
       "1                  0                   0  \n",
       "2                  0                   0  \n",
       "3                  1                   0  \n",
       "4                  0                   1  "
      ]
     },
     "execution_count": 556,
     "metadata": {},
     "output_type": "execute_result"
    }
   ],
   "source": [
    "final_test.head()"
   ]
  },
  {
   "cell_type": "markdown",
   "metadata": {},
   "source": [
    "Building our Neural Network with values changed parameters and keeping (train : test) at a (60 : 40) ratio"
   ]
  },
  {
   "cell_type": "code",
   "execution_count": 592,
   "metadata": {},
   "outputs": [],
   "source": [
    "dct = defaultdict(LabelEncoder)\n",
    "final_test = final_test.apply(lambda param: dct[param.name].fit_transform(param))\n",
    "\n",
    "X = final_test.drop('Suggested Job Role', axis = 1)\n",
    "y = final_test['Suggested Job Role']\n",
    "\n",
    "X_train, X_test, y_train, y_test = train_test_split(X, y, test_size = 0.40, random_state = 10)\n",
    "\n",
    "perceptron = MLPClassifier(hidden_layer_sizes = (20,20,20,20,20), max_iter = 100, solver = \"lbfgs\", activation = \"tanh\", learning_rate='adaptive')\n",
    "perceptron.fit(X_train, y_train)\n",
    "predict_perceptron = perceptron.predict(X_test)"
   ]
  },
  {
   "cell_type": "markdown",
   "metadata": {},
   "source": [
    "Accuracy Score"
   ]
  },
  {
   "cell_type": "code",
   "execution_count": 593,
   "metadata": {},
   "outputs": [
    {
     "name": "stdout",
     "output_type": "stream",
     "text": [
      "The accuracy score of the model is:  18.0125 %\n"
     ]
    }
   ],
   "source": [
    "print(\"The accuracy score of the model is: \", perceptron.score(X_test, y_test)*100, \"%\")"
   ]
  },
  {
   "cell_type": "markdown",
   "metadata": {},
   "source": [
    "Classification Report"
   ]
  },
  {
   "cell_type": "code",
   "execution_count": 594,
   "metadata": {},
   "outputs": [
    {
     "name": "stdout",
     "output_type": "stream",
     "text": [
      "The classification report is as follows:-\n",
      "\n",
      "              precision    recall  f1-score   support\n",
      "\n",
      "           0       0.11      0.02      0.03      1142\n",
      "           1       0.19      0.74      0.30      1506\n",
      "           2       0.00      0.00      0.00       462\n",
      "           3       0.18      0.16      0.17      1385\n",
      "           4       0.17      0.05      0.07      1241\n",
      "           5       0.00      0.00      0.00       678\n",
      "           6       0.09      0.01      0.02      1113\n",
      "           7       0.00      0.00      0.00       473\n",
      "\n",
      "    accuracy                           0.18      8000\n",
      "   macro avg       0.09      0.12      0.07      8000\n",
      "weighted avg       0.12      0.18      0.10      8000\n",
      "\n"
     ]
    }
   ],
   "source": [
    "print(\"The classification report is as follows:-\\n\")\n",
    "print(classification_report(y_test, predict_perceptron))"
   ]
  },
  {
   "cell_type": "markdown",
   "metadata": {},
   "source": [
    "Confusion Matrix"
   ]
  },
  {
   "cell_type": "code",
   "execution_count": 595,
   "metadata": {},
   "outputs": [
    {
     "name": "stdout",
     "output_type": "stream",
     "text": [
      "The confusion matrix is as follows:-\n",
      "\n",
      "[[  23  861    0  189   43    0   26    0]\n",
      " [  51 1121    3  218   80    0   33    0]\n",
      " [  11  356    0   66   18    0   11    0]\n",
      " [  34 1052    0  224   48    0   27    0]\n",
      " [  31  926    2  203   60    1   18    0]\n",
      " [  27  515    1   93   33    0    9    0]\n",
      " [  25  862    2  155   56    0   13    0]\n",
      " [   8  358    0   77   23    0    7    0]]\n"
     ]
    }
   ],
   "source": [
    "print(\"The confusion matrix is as follows:-\\n\")\n",
    "confusion_mat = confusion_matrix(y_test, predict_perceptron)\n",
    "print(confusion_mat)"
   ]
  },
  {
   "cell_type": "markdown",
   "metadata": {},
   "source": [
    "Class-Wise Accuracies"
   ]
  },
  {
   "cell_type": "code",
   "execution_count": 596,
   "metadata": {},
   "outputs": [
    {
     "name": "stdout",
     "output_type": "stream",
     "text": [
      "Analyst :  2.0140105078809105 %\n",
      "Development :  74.43559096945552 %\n",
      "Engineer :  0.0 %\n",
      "Admins :  16.173285198555956 %\n",
      "Quality Testing :  4.8348106365834 %\n",
      "Managerial Positions :  0.0 %\n",
      "UI/UX Designer :  1.1680143755615455 %\n",
      "Architect :  0.0 %\n"
     ]
    }
   ],
   "source": [
    "class_wise_accuracy = confusion_mat.diagonal()/confusion_mat.sum(axis=1)\n",
    "for i in range(len(job_roles)):\n",
    "    print(job_roles[i], ': ', class_wise_accuracy[i]*100, \"%\")"
   ]
  }
 ],
 "metadata": {
  "kernelspec": {
   "display_name": "Python 3.9.2 64-bit",
   "language": "python",
   "name": "python3"
  },
  "language_info": {
   "codemirror_mode": {
    "name": "ipython",
    "version": 3
   },
   "file_extension": ".py",
   "mimetype": "text/x-python",
   "name": "python",
   "nbconvert_exporter": "python",
   "pygments_lexer": "ipython3",
   "version": "3.9.2"
  },
  "metadata": {
   "interpreter": {
    "hash": "cd737411cffc038c6bda1206487fdd6487e2fcecc8c86fcca4a86b36cc06a00f"
   }
  },
  "orig_nbformat": 2,
  "vscode": {
   "interpreter": {
    "hash": "1c325863158353f0eb8b7c2bc0d67a7f33f72f8ff45ab616d1dea43c11482d4b"
   }
  }
 },
 "nbformat": 4,
 "nbformat_minor": 2
}
